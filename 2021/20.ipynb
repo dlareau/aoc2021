{
 "cells": [
  {
   "cell_type": "code",
   "execution_count": 15,
   "id": "33bd75bc",
   "metadata": {},
   "outputs": [],
   "source": [
    "import aocd\n",
    "import re\n",
    "import numpy as np\n",
    "%run helper.ipynb\n",
    "puzzle = aocd.models.Puzzle(year=2021, day=20)\n",
    "data = puzzle.input_data.split(\"\\n\\n\")\n",
    "pads = [\".\", \"#\"] * 25"
   ]
  },
  {
   "cell_type": "code",
   "execution_count": 16,
   "id": "e103bf57",
   "metadata": {},
   "outputs": [],
   "source": [
    "def get_safe(image, point, pad):\n",
    "    row, col = point\n",
    "    if(row < 0 or row >= len(image)):\n",
    "        return pad\n",
    "    if(col < 0 or col >= len(image[0])):\n",
    "        return pad\n",
    "    return image[row][col]"
   ]
  },
  {
   "cell_type": "code",
   "execution_count": 17,
   "id": "f9acd81b",
   "metadata": {},
   "outputs": [],
   "source": [
    "def get_index(image, point, pad):\n",
    "    row, col = point\n",
    "    side_list = []\n",
    "    side_list.append(get_safe(image, (row-1, col-1), pad))\n",
    "    side_list.append(get_safe(image, (row-1, col), pad))\n",
    "    side_list.append(get_safe(image, (row-1, col+1), pad))\n",
    "    side_list.append(get_safe(image, (row, col-1), pad))\n",
    "    side_list.append(get_safe(image, (row, col), pad))\n",
    "    side_list.append(get_safe(image, (row, col+1), pad))\n",
    "    side_list.append(get_safe(image, (row+1, col-1), pad))\n",
    "    side_list.append(get_safe(image, (row+1, col), pad))\n",
    "    side_list.append(get_safe(image, (row+1, col+1), pad))\n",
    "    binary = \"\".join([\"0\" if x == \".\" else \"1\" for x in side_list])\n",
    "    return int(binary, 2)"
   ]
  },
  {
   "cell_type": "code",
   "execution_count": 18,
   "id": "8f0387da",
   "metadata": {},
   "outputs": [],
   "source": [
    "def iterate(image, algo, pad):\n",
    "    image = np.pad(image, 1, constant_values=pad)\n",
    "    new_grid = np.full_like(image, None)\n",
    "    for i in range(len(image)):\n",
    "        for j in range(len(image[0])):\n",
    "            new_grid[(i,j)] = algo[get_index(image, (i,j), pad)]\n",
    "    return new_grid"
   ]
  },
  {
   "cell_type": "code",
   "execution_count": 19,
   "id": "aaa65d5a",
   "metadata": {},
   "outputs": [],
   "source": [
    "grid = [list(row) for row in data[1].split(\"\\n\")]\n",
    "for i in range(2):\n",
    "    grid = iterate(grid, data[0], pads[i])"
   ]
  },
  {
   "cell_type": "code",
   "execution_count": 20,
   "id": "6f9b46ce",
   "metadata": {},
   "outputs": [],
   "source": [
    "puzzle.answer_a = len(grid[grid == \"#\"])"
   ]
  },
  {
   "cell_type": "code",
   "execution_count": 21,
   "id": "0e28f917",
   "metadata": {},
   "outputs": [],
   "source": [
    "grid = [list(row) for row in data[1].split(\"\\n\")]\n",
    "for i in range(50):\n",
    "    grid = iterate(grid, data[0], pads[i])"
   ]
  },
  {
   "cell_type": "code",
   "execution_count": 22,
   "id": "3dd30c72",
   "metadata": {},
   "outputs": [],
   "source": [
    "puzzle.answer_b = len(grid[grid == \"#\"])"
   ]
  },
  {
   "cell_type": "code",
   "execution_count": null,
   "id": "8badb581",
   "metadata": {},
   "outputs": [],
   "source": []
  }
 ],
 "metadata": {
  "kernelspec": {
   "display_name": "Python 3 (ipykernel)",
   "language": "python",
   "name": "python3"
  },
  "language_info": {
   "codemirror_mode": {
    "name": "ipython",
    "version": 3
   },
   "file_extension": ".py",
   "mimetype": "text/x-python",
   "name": "python",
   "nbconvert_exporter": "python",
   "pygments_lexer": "ipython3",
   "version": "3.9.9"
  }
 },
 "nbformat": 4,
 "nbformat_minor": 5
}

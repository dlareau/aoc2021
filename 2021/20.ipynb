{
 "cells": [
  {
   "cell_type": "code",
   "execution_count": 1,
   "id": "33bd75bc",
   "metadata": {},
   "outputs": [],
   "source": [
    "import aocd\n",
    "import numpy as np\n",
    "%run helper.ipynb\n",
    "puzzle = aocd.models.Puzzle(year=2021, day=20)\n",
    "data = puzzle.input_data.replace(\".\", \"0\").replace(\"#\", \"1\").split(\"\\n\\n\")"
   ]
  },
  {
   "cell_type": "code",
   "execution_count": 2,
   "id": "8f0387da",
   "metadata": {},
   "outputs": [],
   "source": [
    "def iterate(image, algo, pad):\n",
    "    image = np.pad(image, 2, constant_values=str(pad))\n",
    "    new_grid = np.full_like(image, str(1-pad))\n",
    "    for i in range(len(new_grid)-2):\n",
    "        for j in range(len(new_grid[0])-2):\n",
    "            new_grid[(i+1,j+1)] = algo[int(\"\".join(image[i:i+3, j:j+3].reshape(9)), 2)]\n",
    "    return new_grid"
   ]
  },
  {
   "cell_type": "code",
   "execution_count": 7,
   "id": "aaa65d5a",
   "metadata": {},
   "outputs": [],
   "source": [
    "grid = [list(row) for row in data[1].split(\"\\n\")]\n",
    "for i in range(50):\n",
    "    grid = iterate(grid, data[0], i%2)\n",
    "    if(i == 1):\n",
    "        puzzle.answer_a = len(grid[grid == \"1\"])\n",
    "puzzle.answer_b = len(grid[grid == \"1\"])"
   ]
  },
  {
   "cell_type": "code",
   "execution_count": null,
   "id": "8badb581",
   "metadata": {},
   "outputs": [],
   "source": []
  }
 ],
 "metadata": {
  "kernelspec": {
   "display_name": "Python 3 (ipykernel)",
   "language": "python",
   "name": "python3"
  },
  "language_info": {
   "codemirror_mode": {
    "name": "ipython",
    "version": 3
   },
   "file_extension": ".py",
   "mimetype": "text/x-python",
   "name": "python",
   "nbconvert_exporter": "python",
   "pygments_lexer": "ipython3",
   "version": "3.9.9"
  }
 },
 "nbformat": 4,
 "nbformat_minor": 5
}

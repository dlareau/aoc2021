{
 "cells": [
  {
   "cell_type": "code",
   "execution_count": 1,
   "id": "f3907b4b",
   "metadata": {},
   "outputs": [],
   "source": [
    "import aocd\n",
    "import numpy as np\n",
    "%run helper.ipynb\n",
    "puzzle = aocd.models.Puzzle(year=2021, day=11)\n",
    "data = puzzle.input_data.split(\"\\n\")"
   ]
  },
  {
   "cell_type": "code",
   "execution_count": 2,
   "id": "a37c153b",
   "metadata": {},
   "outputs": [],
   "source": [
    "def step(grid):\n",
    "    grid = grid + 1\n",
    "    while(len(grid[grid > 9]) > 0):\n",
    "        nines = np.transpose((grid > 9).nonzero())\n",
    "        for nine in nines:\n",
    "            grid[nine[0]][nine[1]] = 0\n",
    "            adjacents = grid.all_sides(nine)\n",
    "            for adj in adjacents:\n",
    "                if(grid[adj] != 0):\n",
    "                    grid[adj] += 1\n",
    "            \n",
    "    return grid"
   ]
  },
  {
   "cell_type": "code",
   "execution_count": 3,
   "id": "c3b4c674",
   "metadata": {},
   "outputs": [],
   "source": [
    "flashes = 0\n",
    "g = Grid(puzzle.input_data)\n",
    "for i in range(100):\n",
    "    g = step(g)\n",
    "    flashes += len(g[g==0])"
   ]
  },
  {
   "cell_type": "code",
   "execution_count": 4,
   "id": "aeaa8d5f",
   "metadata": {},
   "outputs": [],
   "source": [
    "puzzle.answer_a = flashes"
   ]
  },
  {
   "cell_type": "code",
   "execution_count": 5,
   "id": "4bc43fac",
   "metadata": {},
   "outputs": [],
   "source": [
    "g = Grid(puzzle.input_data)\n",
    "step_count = 0\n",
    "while(len(g[g!=0]) != 0):\n",
    "    g = step(g)\n",
    "    step_count += 1"
   ]
  },
  {
   "cell_type": "code",
   "execution_count": 6,
   "id": "dbc29059",
   "metadata": {},
   "outputs": [],
   "source": [
    "puzzle.answer_b = step_count"
   ]
  },
  {
   "cell_type": "code",
   "execution_count": null,
   "id": "68e1f496",
   "metadata": {},
   "outputs": [],
   "source": []
  }
 ],
 "metadata": {
  "kernelspec": {
   "display_name": "Python 3 (ipykernel)",
   "language": "python",
   "name": "python3"
  },
  "language_info": {
   "codemirror_mode": {
    "name": "ipython",
    "version": 3
   },
   "file_extension": ".py",
   "mimetype": "text/x-python",
   "name": "python",
   "nbconvert_exporter": "python",
   "pygments_lexer": "ipython3",
   "version": "3.9.9"
  }
 },
 "nbformat": 4,
 "nbformat_minor": 5
}

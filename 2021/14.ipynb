{
 "cells": [
  {
   "cell_type": "code",
   "execution_count": 71,
   "id": "a62695cc",
   "metadata": {},
   "outputs": [],
   "source": [
    "import aocd\n",
    "from collections import Counter, defaultdict\n",
    "%run helper.ipynb\n",
    "puzzle = aocd.models.Puzzle(year=2021, day=14)\n",
    "template = puzzle.input_data.split(\"\\n\\n\")[0]\n",
    "rule_list = puzzle.input_data.split(\"\\n\\n\")[1].split(\"\\n\")\n",
    "rule_list = [x.split(\" -> \") for x in rule_list]\n",
    "rules = {}\n",
    "for rule in rule_list:\n",
    "    rules[rule[0]] = rule[1]"
   ]
  },
  {
   "cell_type": "code",
   "execution_count": 72,
   "id": "dcdfdea4",
   "metadata": {},
   "outputs": [],
   "source": [
    "def count(template, rules, iters):\n",
    "    base_pairs = defaultdict(int)\n",
    "    for i in range(len(template) - 1):\n",
    "        base_pairs[template[i:i+2]] += 1\n",
    "\n",
    "    for i in range(iters):\n",
    "        new_pairs = defaultdict(int)\n",
    "        for pair in base_pairs:\n",
    "            new_letter = rules[pair]\n",
    "            new_pairs[pair[0] + new_letter] += base_pairs[pair]\n",
    "            new_pairs[new_letter + pair[1]] += base_pairs[pair]\n",
    "        base_pairs = new_pairs\n",
    "\n",
    "    letters = defaultdict(int)\n",
    "    for pair in base_pairs:\n",
    "        letters[pair[0]] += base_pairs[pair]\n",
    "    letters[template[-1]] += 1\n",
    "    return Counter(letters).most_common()\n",
    "    "
   ]
  },
  {
   "cell_type": "code",
   "execution_count": 73,
   "id": "e60283e8",
   "metadata": {},
   "outputs": [],
   "source": [
    "freq = count(template, rules, 10)\n",
    "puzzle.answer_a = freq[0][1] - freq[-1][1]"
   ]
  },
  {
   "cell_type": "code",
   "execution_count": 74,
   "id": "6555c19d",
   "metadata": {},
   "outputs": [],
   "source": [
    "freq = count(template, rules, 40)\n",
    "puzzle.answer_b = freq[0][1] - freq[-1][1]"
   ]
  },
  {
   "cell_type": "code",
   "execution_count": null,
   "id": "fe8fa90f",
   "metadata": {},
   "outputs": [],
   "source": []
  }
 ],
 "metadata": {
  "kernelspec": {
   "display_name": "Python 3 (ipykernel)",
   "language": "python",
   "name": "python3"
  },
  "language_info": {
   "codemirror_mode": {
    "name": "ipython",
    "version": 3
   },
   "file_extension": ".py",
   "mimetype": "text/x-python",
   "name": "python",
   "nbconvert_exporter": "python",
   "pygments_lexer": "ipython3",
   "version": "3.9.9"
  }
 },
 "nbformat": 4,
 "nbformat_minor": 5
}

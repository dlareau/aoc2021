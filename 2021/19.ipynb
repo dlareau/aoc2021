{
 "cells": [
  {
   "cell_type": "code",
   "execution_count": 1,
   "id": "33bd75bc",
   "metadata": {},
   "outputs": [],
   "source": [
    "import aocd\n",
    "import numpy as np\n",
    "import math\n",
    "from collections import defaultdict\n",
    "from itertools import product, permutations\n",
    "%run helper.ipynb\n",
    "puzzle = aocd.models.Puzzle(year=2021, day=19)\n",
    "data = puzzle.input_data.split(\"\\n\\n\")\n",
    "scanned_points = [[tuple(map(int, y.split(\",\"))) for y in x.split(\"\\n\")[1:]] for x in data]"
   ]
  },
  {
   "cell_type": "code",
   "execution_count": 2,
   "id": "5c0c4013",
   "metadata": {},
   "outputs": [],
   "source": [
    "def all_dist(points):\n",
    "    point_map = {}\n",
    "    for source in points:\n",
    "        point_map[source] = set([source.s_dist(dest) for dest in points if source != dest])\n",
    "    return point_map"
   ]
  },
  {
   "cell_type": "code",
   "execution_count": 3,
   "id": "d58811a7",
   "metadata": {},
   "outputs": [],
   "source": [
    "def get_rot_matrix(vec1, vec2):\n",
    "    if(len(set(map(abs, vec1))) != 3):\n",
    "        return None\n",
    "    abs1 = tuple(map(abs, vec1))\n",
    "    abs2 = tuple(map(abs, vec2))\n",
    "    for s in permutations((0,1,2)):\n",
    "        if(tuple([abs2[s[x]] for x in range(3)]) == abs1):\n",
    "            shift = s\n",
    "            break\n",
    "    else:\n",
    "        return None\n",
    "    shifted = [vec2[shift[x]] for x in range(3)]\n",
    "    polarity = [shifted[x]/vec1[x] for x in range(3)]\n",
    "    \n",
    "    r = np.zeros((3,3), int)\n",
    "    for i in range(3):\n",
    "        r[i][shift[i]] = polarity[i]\n",
    "    \n",
    "    return r"
   ]
  },
  {
   "cell_type": "code",
   "execution_count": 4,
   "id": "aaa4f4cb",
   "metadata": {},
   "outputs": [],
   "source": [
    "class Scanner():\n",
    "    def __init__(self, number, beacons):\n",
    "        self.beacons = [Point(x) for x in beacons]  # list of tuples\n",
    "        self.beacon_dist_map = all_dist(self.beacons)  # dict of above tuples to distance sets\n",
    "        self.number = number\n",
    "        self.oriented = False\n",
    "        self.position = Point((0, 0, 0))\n",
    "    \n",
    "    def orient(self, other):\n",
    "        if(other.oriented == True):\n",
    "            return True\n",
    "        matched_points = []\n",
    "        possible_pairs = product(self.beacon_dist_map.keys(), other.beacon_dist_map.keys())\n",
    "        for (ka, kb) in possible_pairs:\n",
    "            if(len(self.beacon_dist_map[ka] & other.beacon_dist_map[kb]) >= 10):\n",
    "                matched_points.append((ka, kb))\n",
    "        if(len(matched_points) >= 12):\n",
    "            d1 = np.asarray(matched_points[0][0] - matched_points[1][0])\n",
    "            d2 = np.asarray(matched_points[0][1] - matched_points[1][1])\n",
    "            r = get_rot_matrix(d1, d2)\n",
    "            shift = matched_points[0][0] - Point(np.matmul(r, matched_points[0][1]))\n",
    "\n",
    "            other.beacons = [Point(np.matmul(r, x)) + shift for x in other.beacons]\n",
    "            other.beacon_dist_map = all_dist(other.beacons)\n",
    "            other.oriented = True\n",
    "            other.position = shift\n",
    "            return True\n",
    "        return False"
   ]
  },
  {
   "cell_type": "code",
   "execution_count": 5,
   "id": "4caa9e7d",
   "metadata": {},
   "outputs": [],
   "source": [
    "s = [Scanner(x[0], x[1]) for x in enumerate(scanned_points)]\n",
    "s[0].oriented = True"
   ]
  },
  {
   "cell_type": "code",
   "execution_count": 6,
   "id": "e12cd073",
   "metadata": {},
   "outputs": [],
   "source": [
    "unoriented = [None]\n",
    "while(len(unoriented) != 0):\n",
    "    oriented = [x for x in s if x.oriented]\n",
    "    unoriented = [x for x in s if not x.oriented]\n",
    "    [o.orient(u) for (o, u) in product(oriented, unoriented)]"
   ]
  },
  {
   "cell_type": "code",
   "execution_count": 7,
   "id": "067511cc",
   "metadata": {},
   "outputs": [],
   "source": [
    "puzzle.answer_a = len(set(flatten([x.beacons for x in s])))"
   ]
  },
  {
   "cell_type": "code",
   "execution_count": 8,
   "id": "ee3ee451",
   "metadata": {},
   "outputs": [],
   "source": [
    "scan_pairs = product(s, s)\n",
    "ls = []\n",
    "for pair in scan_pairs:\n",
    "    ls.append(pair[0].position.m_dist(pair[1].position))\n",
    "puzzle.answer_b = str(max(ls))"
   ]
  },
  {
   "cell_type": "code",
   "execution_count": null,
   "id": "0460330b",
   "metadata": {},
   "outputs": [],
   "source": []
  }
 ],
 "metadata": {
  "kernelspec": {
   "display_name": "Python 3 (ipykernel)",
   "language": "python",
   "name": "python3"
  },
  "language_info": {
   "codemirror_mode": {
    "name": "ipython",
    "version": 3
   },
   "file_extension": ".py",
   "mimetype": "text/x-python",
   "name": "python",
   "nbconvert_exporter": "python",
   "pygments_lexer": "ipython3",
   "version": "3.9.9"
  }
 },
 "nbformat": 4,
 "nbformat_minor": 5
}

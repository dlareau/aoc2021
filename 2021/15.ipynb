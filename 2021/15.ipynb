{
 "cells": [
  {
   "cell_type": "code",
   "execution_count": 13,
   "id": "634cf8cf",
   "metadata": {},
   "outputs": [],
   "source": [
    "import aocd\n",
    "import re\n",
    "import numpy as np\n",
    "%run helper.ipynb\n",
    "puzzle = aocd.models.Puzzle(year=2021, day=15)\n",
    "g = Grid(puzzle.input_data)"
   ]
  },
  {
   "cell_type": "code",
   "execution_count": 14,
   "id": "2a0ea3c2",
   "metadata": {},
   "outputs": [],
   "source": [
    "def find_path(grid, start, end, costs):\n",
    "    boundary = {}\n",
    "    \n",
    "    for side in grid.sides(end):\n",
    "        boundary[side] = costs[end]\n",
    "    \n",
    "    while(len(boundary) != 0):\n",
    "        new_boundary = {}\n",
    "        for point in boundary:\n",
    "            cost = boundary[point] + grid[point]\n",
    "            if(costs[point] > cost):\n",
    "                costs[point] = cost\n",
    "            for new_point in grid.sides(point):\n",
    "                if(costs[new_point] > cost):\n",
    "                    if(new_point not in new_boundary):\n",
    "                        new_boundary[new_point] = costs[point]\n",
    "                    else:\n",
    "                        new_boundary[new_point] = min(costs[point], new_boundary[new_point])\n",
    "        boundary = new_boundary"
   ]
  },
  {
   "cell_type": "code",
   "execution_count": 15,
   "id": "73dc246e",
   "metadata": {},
   "outputs": [],
   "source": [
    "costs = np.full_like(g, 100000)\n",
    "end = ((len(g) - 1, len(g) - 1))\n",
    "costs[end] = g[end]\n",
    "find_path(g, (0,0), end, costs)"
   ]
  },
  {
   "cell_type": "code",
   "execution_count": 16,
   "id": "ad1f5740",
   "metadata": {},
   "outputs": [],
   "source": [
    "puzzle.answer_a = str(costs[(0,0)] - g[(0,0)])"
   ]
  },
  {
   "cell_type": "code",
   "execution_count": 17,
   "id": "ed730063",
   "metadata": {},
   "outputs": [],
   "source": [
    "t = np.zeros((5*len(g),5*len(g)), dtype=int)\n",
    "for i in range(5):\n",
    "    for j in range(5):\n",
    "        t[i*len(g):i*len(g) + len(g), j*len(g):j*len(g) + len(g)] = ((g - 1 + i + j) % 9) + 1\n",
    "t = Grid(\"\\n\".join([\"\".join(map(str, x)) for x in t]))"
   ]
  },
  {
   "cell_type": "code",
   "execution_count": 18,
   "id": "8098e736",
   "metadata": {},
   "outputs": [],
   "source": [
    "costs = np.full_like(t, 100000000)\n",
    "end = ((len(t) - 1, len(t) - 1))\n",
    "costs[end] = t[end]\n",
    "find_path(t, (0,0), end, costs)"
   ]
  },
  {
   "cell_type": "code",
   "execution_count": 19,
   "id": "0c756edf",
   "metadata": {},
   "outputs": [],
   "source": [
    "puzzle.answer_b = str(costs[(0,0)] - t[(0,0)])"
   ]
  },
  {
   "cell_type": "code",
   "execution_count": null,
   "id": "796a670b",
   "metadata": {},
   "outputs": [],
   "source": []
  }
 ],
 "metadata": {
  "kernelspec": {
   "display_name": "Python 3 (ipykernel)",
   "language": "python",
   "name": "python3"
  },
  "language_info": {
   "codemirror_mode": {
    "name": "ipython",
    "version": 3
   },
   "file_extension": ".py",
   "mimetype": "text/x-python",
   "name": "python",
   "nbconvert_exporter": "python",
   "pygments_lexer": "ipython3",
   "version": "3.9.9"
  }
 },
 "nbformat": 4,
 "nbformat_minor": 5
}

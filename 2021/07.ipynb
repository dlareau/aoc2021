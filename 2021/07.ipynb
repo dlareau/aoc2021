{
 "cells": [
  {
   "cell_type": "code",
   "execution_count": 1,
   "id": "a34c5aeb",
   "metadata": {},
   "outputs": [],
   "source": [
    "import aocd\n",
    "%run helper.ipynb\n",
    "puzzle = aocd.models.Puzzle(year=2021, day=7)\n",
    "data = list(map(int, puzzle.input_data.split(\",\")))"
   ]
  },
  {
   "cell_type": "code",
   "execution_count": 2,
   "id": "2cee3508",
   "metadata": {},
   "outputs": [],
   "source": [
    "def get_fuel(l, p):\n",
    "    return sum([abs(p - x) for x in l])"
   ]
  },
  {
   "cell_type": "code",
   "execution_count": 3,
   "id": "20bee96f",
   "metadata": {},
   "outputs": [],
   "source": [
    "puzzle.answer_a = min([get_fuel(data, x) for x in range(0,max(data))])"
   ]
  },
  {
   "cell_type": "code",
   "execution_count": 4,
   "id": "d6422d7b",
   "metadata": {},
   "outputs": [],
   "source": [
    "def get_fuel2(l, p):\n",
    "    return sum([sum(range(abs(p - x) + 1)) for x in l])"
   ]
  },
  {
   "cell_type": "code",
   "execution_count": 5,
   "id": "bf88380b",
   "metadata": {},
   "outputs": [],
   "source": [
    "puzzle.answer_b = min([get_fuel2(data, x) for x in range(0,max(data))])"
   ]
  },
  {
   "cell_type": "code",
   "execution_count": null,
   "id": "356419c7",
   "metadata": {},
   "outputs": [],
   "source": []
  }
 ],
 "metadata": {
  "kernelspec": {
   "display_name": "Python 3 (ipykernel)",
   "language": "python",
   "name": "python3"
  },
  "language_info": {
   "codemirror_mode": {
    "name": "ipython",
    "version": 3
   },
   "file_extension": ".py",
   "mimetype": "text/x-python",
   "name": "python",
   "nbconvert_exporter": "python",
   "pygments_lexer": "ipython3",
   "version": "3.9.9"
  }
 },
 "nbformat": 4,
 "nbformat_minor": 5
}

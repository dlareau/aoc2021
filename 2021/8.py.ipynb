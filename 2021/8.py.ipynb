{
 "cells": [
  {
   "cell_type": "code",
   "execution_count": 2,
   "id": "5c563bad",
   "metadata": {},
   "outputs": [],
   "source": [
    "import aocd\n",
    "import re\n",
    "import numpy\n",
    "from collections import Counter, defaultdict\n",
    "puzzle = aocd.models.Puzzle(year=2021, day=8)\n",
    "data = puzzle.input_data.split(\"\\n\")"
   ]
  },
  {
   "cell_type": "code",
   "execution_count": 88,
   "id": "4a13fe15",
   "metadata": {},
   "outputs": [],
   "source": [
    "def flatten(t):\n",
    "    return [item for sublist in t for item in sublist]\n",
    "\n",
    "number_map = [\n",
    "        set([\"A\", \"B\", \"C\",      \"E\", \"F\", \"G\"]),\n",
    "        set([          \"C\",           \"F\"     ]),\n",
    "        set([\"A\",      \"C\", \"D\", \"E\",      \"G\"]),\n",
    "        set([\"A\",      \"C\", \"D\",      \"F\", \"G\"]),\n",
    "        set([     \"B\", \"C\", \"D\",      \"F\"     ]),\n",
    "        set([\"A\", \"B\",      \"D\",      \"F\", \"G\"]),\n",
    "        set([\"A\", \"B\",      \"D\", \"E\", \"F\", \"G\"]),\n",
    "        set([\"A\",      \"C\",           \"F\"     ]),\n",
    "        set([\"A\", \"B\", \"C\", \"D\", \"E\", \"F\", \"G\"]),\n",
    "        set([\"A\", \"B\", \"C\", \"D\",      \"F\", \"G\"])\n",
    "    ]\n"
   ]
  },
  {
   "cell_type": "code",
   "execution_count": 81,
   "id": "8d3218c7",
   "metadata": {},
   "outputs": [],
   "source": [
    "ds = flatten([x.split(\" | \")[1].split(\" \") for x in data])"
   ]
  },
  {
   "cell_type": "code",
   "execution_count": 89,
   "id": "749e9f35",
   "metadata": {},
   "outputs": [],
   "source": [
    "c = Counter([len(x) for x in ds])"
   ]
  },
  {
   "cell_type": "code",
   "execution_count": 90,
   "id": "f059b5b1",
   "metadata": {},
   "outputs": [],
   "source": [
    "puzzle.answer_a = c[2] + c[4] + c[3] + c[7]"
   ]
  },
  {
   "cell_type": "code",
   "execution_count": 85,
   "id": "6daf47f8",
   "metadata": {},
   "outputs": [],
   "source": [
    "lines = [x.split(\" | \") for x in data]"
   ]
  },
  {
   "cell_type": "code",
   "execution_count": 97,
   "id": "9ea0bd3b",
   "metadata": {},
   "outputs": [],
   "source": [
    "def identify(line):\n",
    "    sample = line[0].split(\" \")\n",
    "    output = line[1].split(\" \")\n",
    "\n",
    "    one = [x for x in sample if len(x) == 2][0]\n",
    "    seven = [x for x in sample if len(x) == 3][0]\n",
    "    four = [x for x in sample if len(x) == 4][0]\n",
    "    eight = [x for x in sample if len(x) == 7][0]\n",
    "    len_6s = [x for x in sample if len(x) == 6]\n",
    "    \n",
    "    seg_a = list(set(seven) - set(one))[0]\n",
    "    cde_poss = [list(set(eight) - set(x))[0] for x in len_6s]\n",
    "    seg_c = [x for x in cde_poss if x in one][0]\n",
    "    seg_f = list(set(seven) - set([seg_a, seg_c]))[0]\n",
    "    de_poss = [x for x in cde_poss if x not in one]\n",
    "    seg_d = [x for x in de_poss if x in four][0]\n",
    "    seg_e = [x for x in de_poss if x not in four][0]\n",
    "    seg_b = list(set(four) - set([seg_c, seg_d, seg_f]))[0]\n",
    "    seg_g = list(set(\"abcdefg\") - set([seg_a, seg_b, seg_c, seg_d, seg_e, seg_f]))[0]\n",
    "    \n",
    "    new_output = [str(number_map.index(set(x.replace(seg_a, \"A\")\n",
    "                                            .replace(seg_b, \"B\")\n",
    "                                            .replace(seg_c, \"C\")\n",
    "                                            .replace(seg_d, \"D\")\n",
    "                                            .replace(seg_e, \"E\")\n",
    "                                            .replace(seg_f, \"F\")\n",
    "                                            .replace(seg_g, \"G\")))) for x in output]\n",
    "    return int(\"\".join(new_output))"
   ]
  },
  {
   "cell_type": "code",
   "execution_count": 98,
   "id": "dbccfe48",
   "metadata": {},
   "outputs": [],
   "source": [
    "puzzle.answer_b = sum([identify(line) for line in lines])"
   ]
  },
  {
   "cell_type": "code",
   "execution_count": null,
   "id": "34ce5d76",
   "metadata": {},
   "outputs": [],
   "source": []
  }
 ],
 "metadata": {
  "kernelspec": {
   "display_name": "Python 3 (ipykernel)",
   "language": "python",
   "name": "python3"
  },
  "language_info": {
   "codemirror_mode": {
    "name": "ipython",
    "version": 3
   },
   "file_extension": ".py",
   "mimetype": "text/x-python",
   "name": "python",
   "nbconvert_exporter": "python",
   "pygments_lexer": "ipython3",
   "version": "3.9.9"
  }
 },
 "nbformat": 4,
 "nbformat_minor": 5
}

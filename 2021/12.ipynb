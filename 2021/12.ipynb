{
 "cells": [
  {
   "cell_type": "code",
   "execution_count": 9,
   "id": "539abf47",
   "metadata": {},
   "outputs": [],
   "source": [
    "import aocd\n",
    "from collections import defaultdict, Counter\n",
    "%run helper.ipynb\n",
    "puzzle = aocd.models.Puzzle(year=2021, day=12)\n",
    "data = [x.split(\"-\") for x in puzzle.input_data.split(\"\\n\")]"
   ]
  },
  {
   "cell_type": "code",
   "execution_count": 3,
   "id": "7f8dd40a",
   "metadata": {},
   "outputs": [],
   "source": [
    "graph = defaultdict(list)"
   ]
  },
  {
   "cell_type": "code",
   "execution_count": 4,
   "id": "5173da26",
   "metadata": {},
   "outputs": [],
   "source": [
    "for (a,b) in data:\n",
    "    graph[a].append(b)\n",
    "    graph[b].append(a)"
   ]
  },
  {
   "cell_type": "code",
   "execution_count": 24,
   "id": "099ef733",
   "metadata": {},
   "outputs": [],
   "source": [
    "def find_paths(graph, path, node, dest, double_allowed=False):\n",
    "    path.append(node)\n",
    "    if(node == dest):\n",
    "        retval = [path[:]]\n",
    "        path.pop()\n",
    "        return retval\n",
    "    paths = []\n",
    "    for future_node in graph[node]:\n",
    "        if(future_node == path[0]):\n",
    "            continue\n",
    "        double_visit = Counter([x for x in path if x == x.lower()]).most_common(1)[0][1] == 2\n",
    "        if((double_visit or not double_allowed) and future_node == future_node.lower() and future_node in path):\n",
    "            continue\n",
    "        paths += find_paths(graph, path, future_node, dest, double_allowed)\n",
    "    path.pop()\n",
    "    return paths\n",
    "        "
   ]
  },
  {
   "cell_type": "code",
   "execution_count": 25,
   "id": "17b819f1",
   "metadata": {},
   "outputs": [],
   "source": [
    "puzzle.answer_a = len(find_paths(graph, [], \"start\", \"end\"))"
   ]
  },
  {
   "cell_type": "code",
   "execution_count": 26,
   "id": "9a51d817",
   "metadata": {},
   "outputs": [],
   "source": [
    "puzzle.answer_b = len(find_paths(graph, [], \"start\", \"end\", double_allowed=True))"
   ]
  },
  {
   "cell_type": "code",
   "execution_count": null,
   "id": "07f7d0a1",
   "metadata": {},
   "outputs": [],
   "source": []
  }
 ],
 "metadata": {
  "kernelspec": {
   "display_name": "Python 3 (ipykernel)",
   "language": "python",
   "name": "python3"
  },
  "language_info": {
   "codemirror_mode": {
    "name": "ipython",
    "version": 3
   },
   "file_extension": ".py",
   "mimetype": "text/x-python",
   "name": "python",
   "nbconvert_exporter": "python",
   "pygments_lexer": "ipython3",
   "version": "3.9.9"
  }
 },
 "nbformat": 4,
 "nbformat_minor": 5
}

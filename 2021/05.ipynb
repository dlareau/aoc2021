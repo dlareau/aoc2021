{
 "cells": [
  {
   "cell_type": "code",
   "execution_count": 7,
   "id": "8c140139",
   "metadata": {},
   "outputs": [],
   "source": [
    "import aocd\n",
    "import re\n",
    "from collections import Counter\n",
    "%run helper.ipynb\n",
    "puzzle = aocd.models.Puzzle(year=2021, day=5)\n",
    "data = puzzle.input_data.split(\"\\n\")\n",
    "data = [list(map(int, re.match(\"(\\d+),(\\d+) -> (\\d+),(\\d+)\", x).groups())) for x in data]"
   ]
  },
  {
   "cell_type": "code",
   "execution_count": 8,
   "id": "b98b8ddf",
   "metadata": {},
   "outputs": [],
   "source": [
    "data_hv = [x for x in data if x[0] == x[2] or x[1] == x[3]]"
   ]
  },
  {
   "cell_type": "code",
   "execution_count": 9,
   "id": "ba1b5a8c",
   "metadata": {},
   "outputs": [],
   "source": [
    "def brange(a, b):\n",
    "    if(a > b):\n",
    "        return range(a, b-1, -1)\n",
    "    else:\n",
    "        return range(a, b+1)"
   ]
  },
  {
   "cell_type": "code",
   "execution_count": 10,
   "id": "1e4a444c",
   "metadata": {},
   "outputs": [],
   "source": [
    "def expand_points(points):\n",
    "    if(points[0] == points[2]):\n",
    "        return [(points[0], x) for x in brange(points[1], points[3])]\n",
    "    if(points[1] == points[3]):\n",
    "        return [(x, points[1]) for x in brange(points[0], points[2])]\n",
    "    return list(zip(brange(points[0], points[2]), brange(points[1], points[3])))"
   ]
  },
  {
   "cell_type": "code",
   "execution_count": 11,
   "id": "4ac4fd02",
   "metadata": {},
   "outputs": [],
   "source": [
    "def get_overlaps(points):\n",
    "    full_points = [expand_points(p) for p in points]\n",
    "    flat = flatten(full_points)\n",
    "    return len([x for x in dict(Counter(flat).items()).values() if x > 1])"
   ]
  },
  {
   "cell_type": "code",
   "execution_count": 12,
   "id": "9e8f7774",
   "metadata": {},
   "outputs": [],
   "source": [
    "puzzle.answer_a = get_overlaps(data_hv)"
   ]
  },
  {
   "cell_type": "code",
   "execution_count": 13,
   "id": "c7cf6ef2",
   "metadata": {},
   "outputs": [],
   "source": [
    "puzzle.answer_b = get_overlaps(data)"
   ]
  },
  {
   "cell_type": "code",
   "execution_count": null,
   "id": "06862547",
   "metadata": {},
   "outputs": [],
   "source": []
  }
 ],
 "metadata": {
  "kernelspec": {
   "display_name": "Python 3 (ipykernel)",
   "language": "python",
   "name": "python3"
  },
  "language_info": {
   "codemirror_mode": {
    "name": "ipython",
    "version": 3
   },
   "file_extension": ".py",
   "mimetype": "text/x-python",
   "name": "python",
   "nbconvert_exporter": "python",
   "pygments_lexer": "ipython3",
   "version": "3.9.9"
  }
 },
 "nbformat": 4,
 "nbformat_minor": 5
}

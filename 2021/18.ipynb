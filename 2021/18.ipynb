{
 "cells": [
  {
   "cell_type": "code",
   "execution_count": 1,
   "id": "f40adac7",
   "metadata": {},
   "outputs": [],
   "source": [
    "import aocd\n",
    "import re\n",
    "import numpy as np\n",
    "from anytree import Node, RenderTree\n",
    "import json\n",
    "import math\n",
    "%run helper.ipynb\n",
    "puzzle = aocd.models.Puzzle(year=2021, day=18)\n",
    "data = puzzle.input_data.split(\"\\n\")"
   ]
  },
  {
   "cell_type": "code",
   "execution_count": 2,
   "id": "c04bae09",
   "metadata": {},
   "outputs": [],
   "source": [
    "def string_to_tree(string):\n",
    "    j = json.loads(string)\n",
    "    if(isinstance(j[0], int)):\n",
    "        left = Node(j[0])\n",
    "    else:\n",
    "        left = string_to_tree(str(j[0]))\n",
    "    if(isinstance(j[1], int)):\n",
    "        right = Node(j[1])\n",
    "    else:\n",
    "        right = string_to_tree(str(j[1]))\n",
    "    ret = Node(\"\")\n",
    "    ret.children = [left, right]\n",
    "    return ret"
   ]
  },
  {
   "cell_type": "code",
   "execution_count": 3,
   "id": "9749e2bf",
   "metadata": {
    "scrolled": true
   },
   "outputs": [],
   "source": [
    "tree_data = [string_to_tree(x) for x in data]"
   ]
  },
  {
   "cell_type": "code",
   "execution_count": 4,
   "id": "f7244a57",
   "metadata": {},
   "outputs": [],
   "source": [
    "def get_left(n):\n",
    "    last_node = n\n",
    "    for node in n.parent.iter_path_reverse():\n",
    "        if(node.children[1] == last_node):\n",
    "            return node.children[0].leaves[-1]\n",
    "        else:\n",
    "            last_node = node\n",
    "    else:\n",
    "        return None"
   ]
  },
  {
   "cell_type": "code",
   "execution_count": 5,
   "id": "28f12582",
   "metadata": {},
   "outputs": [],
   "source": [
    "def get_right(n):\n",
    "    last_node = n\n",
    "    for node in n.parent.iter_path_reverse():\n",
    "        if(node.children[0] == last_node):\n",
    "            return node.children[1].leaves[0]\n",
    "        else:\n",
    "            last_node = node\n",
    "    else:\n",
    "        return None"
   ]
  },
  {
   "cell_type": "code",
   "execution_count": 6,
   "id": "dcae27dd",
   "metadata": {},
   "outputs": [],
   "source": [
    "def reduce(tree):\n",
    "    e = [x for x in tree.leaves if x.depth > 4]\n",
    "    if(len(e) > 0):\n",
    "        p = e[0].parent\n",
    "        (l,r) = p.children\n",
    "        ll = get_left(l)\n",
    "        if(ll is not None):\n",
    "            ll.name = int(ll.name) + int(l.name)\n",
    "        rr = get_right(r)\n",
    "        if(rr is not None):\n",
    "            rr.name = int(rr.name) + int(r.name)\n",
    "        p.name = 0\n",
    "        p.children = []\n",
    "        return reduce(tree)\n",
    "    g = [x for x in tree.leaves if int(x.name) >= 10]\n",
    "    if(len(g) > 0):\n",
    "        s = g[0]\n",
    "        v = int(s.name)\n",
    "        s.name = \"\"\n",
    "        s.children = [Node(math.floor(v/2)), Node(math.ceil(v/2))]\n",
    "        return reduce(tree)\n",
    "    return tree\n",
    "        "
   ]
  },
  {
   "cell_type": "code",
   "execution_count": 7,
   "id": "0f6ce07c",
   "metadata": {},
   "outputs": [],
   "source": [
    "def add(n1, n2):\n",
    "    return reduce(Node(\"\", children=[n1, n2]))"
   ]
  },
  {
   "cell_type": "code",
   "execution_count": 8,
   "id": "ff0a5af1",
   "metadata": {},
   "outputs": [],
   "source": [
    "def magnitude(tree):\n",
    "    if tree.is_leaf:\n",
    "        return int(tree.name)\n",
    "    else:\n",
    "        return 3 * magnitude(tree.children[0]) + 2 * magnitude(tree.children[1])"
   ]
  },
  {
   "cell_type": "code",
   "execution_count": 9,
   "id": "401e4e05",
   "metadata": {},
   "outputs": [],
   "source": [
    "last = tree_data[0]\n",
    "for t in tree_data[1:]:\n",
    "    last = add(last, t)"
   ]
  },
  {
   "cell_type": "code",
   "execution_count": 10,
   "id": "052ae195",
   "metadata": {},
   "outputs": [],
   "source": [
    "puzzle.answer_a = magnitude(last)"
   ]
  },
  {
   "cell_type": "code",
   "execution_count": null,
   "id": "dcfe4f32",
   "metadata": {},
   "outputs": [],
   "source": [
    "from itertools import permutations\n",
    "p = permutations(data, 2)\n",
    "max_mag = 0\n",
    "for t in p:\n",
    "    # Done because addition is destructive\n",
    "    max_mag = max(max_mag, magnitude(add(string_to_tree(t[0]), string_to_tree(t[1]))))"
   ]
  },
  {
   "cell_type": "code",
   "execution_count": null,
   "id": "2d35e367",
   "metadata": {},
   "outputs": [],
   "source": [
    "puzzle.answer_b = max_mag"
   ]
  },
  {
   "cell_type": "code",
   "execution_count": null,
   "id": "203de5eb",
   "metadata": {},
   "outputs": [],
   "source": []
  }
 ],
 "metadata": {
  "kernelspec": {
   "display_name": "Python 3 (ipykernel)",
   "language": "python",
   "name": "python3"
  },
  "language_info": {
   "codemirror_mode": {
    "name": "ipython",
    "version": 3
   },
   "file_extension": ".py",
   "mimetype": "text/x-python",
   "name": "python",
   "nbconvert_exporter": "python",
   "pygments_lexer": "ipython3",
   "version": "3.9.9"
  }
 },
 "nbformat": 4,
 "nbformat_minor": 5
}

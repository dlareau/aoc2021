{
 "cells": [
  {
   "cell_type": "code",
   "execution_count": 1,
   "id": "f40adac7",
   "metadata": {},
   "outputs": [],
   "source": [
    "import aocd\n",
    "import numpy as np\n",
    "from anytree import Node\n",
    "import json\n",
    "import math\n",
    "from functools import reduce\n",
    "from itertools import permutations\n",
    "from copy import deepcopy\n",
    "%run helper.ipynb\n",
    "puzzle = aocd.models.Puzzle(year=2021, day=18)\n",
    "data = puzzle.input_data.split(\"\\n\")"
   ]
  },
  {
   "cell_type": "code",
   "execution_count": 2,
   "id": "bf2a96f3",
   "metadata": {},
   "outputs": [],
   "source": [
    "def string_to_tree(string):\n",
    "    j = json.loads(string)\n",
    "    if(isinstance(j[0], int)):\n",
    "        left = Node(j[0])\n",
    "    else:\n",
    "        left = string_to_tree(str(j[0]))\n",
    "    if(isinstance(j[1], int)):\n",
    "        right = Node(j[1])\n",
    "    else:\n",
    "        right = string_to_tree(str(j[1]))\n",
    "    ret = Node(\"\")\n",
    "    ret.children = [left, right]\n",
    "    return ret"
   ]
  },
  {
   "cell_type": "code",
   "execution_count": 3,
   "id": "d187fef4",
   "metadata": {},
   "outputs": [],
   "source": [
    "def get_side(n, idx):\n",
    "    last_node = n\n",
    "    for node in n.parent.iter_path_reverse():\n",
    "        if(node.children[1-idx] == last_node):\n",
    "            return node.children[idx].leaves[idx-1]\n",
    "        else:\n",
    "            last_node = node\n",
    "    else:\n",
    "        return None"
   ]
  },
  {
   "cell_type": "code",
   "execution_count": 4,
   "id": "50dfe684",
   "metadata": {},
   "outputs": [],
   "source": [
    "def reduce_tree(tree):\n",
    "    e = [x for x in tree.leaves if x.depth > 4]\n",
    "    if(len(e) > 0):\n",
    "        p = e[0].parent\n",
    "        (l,r) = p.children\n",
    "        ll = get_side(l, 0)\n",
    "        if(ll is not None):\n",
    "            ll.name = int(ll.name) + int(l.name)\n",
    "        rr = get_side(r, 1)\n",
    "        if(rr is not None):\n",
    "            rr.name = int(rr.name) + int(r.name)\n",
    "        p.name = 0\n",
    "        p.children = []\n",
    "        return reduce_tree(tree)\n",
    "    g = [x for x in tree.leaves if int(x.name) >= 10]\n",
    "    if(len(g) > 0):\n",
    "        s = g[0]\n",
    "        v = int(s.name)\n",
    "        s.name = \"\"\n",
    "        s.children = [Node(math.floor(v/2)), Node(math.ceil(v/2))]\n",
    "        return reduce_tree(tree)\n",
    "    return tree\n",
    "        "
   ]
  },
  {
   "cell_type": "code",
   "execution_count": 5,
   "id": "e4001351",
   "metadata": {},
   "outputs": [],
   "source": [
    "def add(n1, n2):\n",
    "    return reduce_tree(Node(\"\", children=[n1, n2]))"
   ]
  },
  {
   "cell_type": "code",
   "execution_count": 6,
   "id": "e514befd",
   "metadata": {},
   "outputs": [],
   "source": [
    "def magnitude(tree):\n",
    "    if tree.is_leaf:\n",
    "        return int(tree.name)\n",
    "    else:\n",
    "        return 3 * magnitude(tree.children[0]) + 2 * magnitude(tree.children[1])"
   ]
  },
  {
   "cell_type": "code",
   "execution_count": 7,
   "id": "283d21b6",
   "metadata": {},
   "outputs": [],
   "source": [
    "puzzle.answer_a = magnitude(reduce(add, map(string_to_tree, data)))"
   ]
  },
  {
   "cell_type": "code",
   "execution_count": 8,
   "id": "47dff896",
   "metadata": {},
   "outputs": [],
   "source": [
    "puzzle.answer_b = max([magnitude(add(string_to_tree(t[0]), string_to_tree(t[1]))) for t in permutations(data, 2)])"
   ]
  },
  {
   "cell_type": "code",
   "execution_count": null,
   "id": "8196bae7",
   "metadata": {},
   "outputs": [],
   "source": []
  }
 ],
 "metadata": {
  "kernelspec": {
   "display_name": "Python 3 (ipykernel)",
   "language": "python",
   "name": "python3"
  },
  "language_info": {
   "codemirror_mode": {
    "name": "ipython",
    "version": 3
   },
   "file_extension": ".py",
   "mimetype": "text/x-python",
   "name": "python",
   "nbconvert_exporter": "python",
   "pygments_lexer": "ipython3",
   "version": "3.9.9"
  }
 },
 "nbformat": 4,
 "nbformat_minor": 5
}

{
 "cells": [
  {
   "cell_type": "code",
   "execution_count": 1,
   "id": "5cf84169",
   "metadata": {},
   "outputs": [],
   "source": [
    "import aocd\n",
    "import numpy as np\n",
    "%run helper.ipynb\n",
    "puzzle = aocd.models.Puzzle(year=2021, day=21)\n",
    "data = puzzle.input_data.split(\"\\n\")"
   ]
  },
  {
   "cell_type": "code",
   "execution_count": 2,
   "id": "05fd711c",
   "metadata": {},
   "outputs": [
    {
     "data": {
      "text/plain": [
       "['Player 1 starting position: 10', 'Player 2 starting position: 6']"
      ]
     },
     "execution_count": 2,
     "metadata": {},
     "output_type": "execute_result"
    }
   ],
   "source": [
    "data"
   ]
  },
  {
   "cell_type": "code",
   "execution_count": 3,
   "id": "453179c8",
   "metadata": {},
   "outputs": [],
   "source": [
    "def mod10(n):\n",
    "    return ((n - 1) % 10) + 1\n",
    "\n",
    "def mod100(n):\n",
    "    return ((n - 1) % 100) + 1"
   ]
  },
  {
   "cell_type": "code",
   "execution_count": 4,
   "id": "e3c11057",
   "metadata": {},
   "outputs": [],
   "source": [
    "player1 = 10\n",
    "player1_score = 0\n",
    "\n",
    "player2 = 6\n",
    "player2_score = 0\n",
    "\n",
    "die = 2\n",
    "rolls = 0\n",
    "\n",
    "while(player1_score < 1000 and player2_score < 1000):\n",
    "    player1 = mod10(player1 + 3*die)\n",
    "    player1_score += player1\n",
    "    die = mod100(die + 3)\n",
    "    rolls += 3\n",
    "    \n",
    "    if(player1_score >= 1000):\n",
    "        break\n",
    "\n",
    "    player2 = mod10(player2 + 3*die)\n",
    "    player2_score += player2\n",
    "    die = mod100(die + 3)\n",
    "    rolls += 3"
   ]
  },
  {
   "cell_type": "code",
   "execution_count": 5,
   "id": "2cd8f012",
   "metadata": {},
   "outputs": [],
   "source": [
    "puzzle.answer_a = rolls*player2_score"
   ]
  },
  {
   "cell_type": "code",
   "execution_count": 6,
   "id": "a4605afb",
   "metadata": {
    "scrolled": true
   },
   "outputs": [],
   "source": [
    "from collections import defaultdict\n",
    "player_state = defaultdict(int)\n",
    "player_state[(10, 0, 6, 0)] = 1\n",
    "\n",
    "rolls = {3: 1, 4: 3, 5: 6, 6: 7, 7: 6, 8: 3, 9: 1}\n",
    "\n",
    "def iteration(state):\n",
    "    a_wins = 0\n",
    "    b_wins = 0\n",
    "    new_state = defaultdict(int)\n",
    "    for key in state:\n",
    "        a, a_s, b, b_s = key\n",
    "        for roll in rolls:\n",
    "            new_a = mod10(a + roll)\n",
    "            new_a_s = a_s + new_a\n",
    "            if(new_a_s >= 21):\n",
    "                a_wins += state[key] * rolls[roll]\n",
    "            else:\n",
    "                new_state[(new_a, new_a_s, b, b_s)] += state[key] * rolls[roll]\n",
    "\n",
    "    state = new_state\n",
    "                \n",
    "    new_state = defaultdict(int)\n",
    "    for key in state:\n",
    "        a, a_s, b, b_s = key\n",
    "        for roll in rolls:\n",
    "            new_b = mod10(b + roll)\n",
    "            new_b_s = b_s + new_b\n",
    "            if(new_b_s >= 21):\n",
    "                b_wins += state[key] * rolls[roll]\n",
    "            else:\n",
    "                new_state[(a, a_s, new_b, new_b_s)] += state[key] * rolls[roll]\n",
    "    return (new_state, a_wins, b_wins)\n",
    "\n",
    "a_wins = 0\n",
    "b_wins = 0\n",
    "for i in range(20):\n",
    "    (player_state, new_a_wins, new_b_wins) = iteration(player_state)\n",
    "    a_wins += new_a_wins\n",
    "    b_wins += new_b_wins\n",
    "puzzle.answer_b = a_wins"
   ]
  },
  {
   "cell_type": "code",
   "execution_count": null,
   "id": "66428feb",
   "metadata": {},
   "outputs": [],
   "source": []
  }
 ],
 "metadata": {
  "kernelspec": {
   "display_name": "Python 3 (ipykernel)",
   "language": "python",
   "name": "python3"
  },
  "language_info": {
   "codemirror_mode": {
    "name": "ipython",
    "version": 3
   },
   "file_extension": ".py",
   "mimetype": "text/x-python",
   "name": "python",
   "nbconvert_exporter": "python",
   "pygments_lexer": "ipython3",
   "version": "3.9.9"
  }
 },
 "nbformat": 4,
 "nbformat_minor": 5
}

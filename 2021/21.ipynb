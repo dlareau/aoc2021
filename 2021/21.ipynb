{
 "cells": [
  {
   "cell_type": "code",
   "execution_count": 105,
   "id": "fd8332be",
   "metadata": {},
   "outputs": [],
   "source": [
    "import aocd\n",
    "import numpy as np\n",
    "%run helper.ipynb\n",
    "puzzle = aocd.models.Puzzle(year=2021, day=21)\n",
    "data = puzzle.input_data.split(\"\\n\")"
   ]
  },
  {
   "cell_type": "code",
   "execution_count": 106,
   "id": "11dbb52e",
   "metadata": {},
   "outputs": [
    {
     "data": {
      "text/plain": [
       "['Player 1 starting position: 10', 'Player 2 starting position: 6']"
      ]
     },
     "execution_count": 106,
     "metadata": {},
     "output_type": "execute_result"
    }
   ],
   "source": [
    "data"
   ]
  },
  {
   "cell_type": "code",
   "execution_count": 107,
   "id": "f4686e96",
   "metadata": {},
   "outputs": [],
   "source": [
    "def mod10(n):\n",
    "    return ((n - 1) % 10) + 1\n",
    "\n",
    "def mod100(n):\n",
    "    return ((n - 1) % 100) + 1"
   ]
  },
  {
   "cell_type": "code",
   "execution_count": 109,
   "id": "22b43a46",
   "metadata": {},
   "outputs": [],
   "source": [
    "player1 = 10\n",
    "player1_score = 0\n",
    "\n",
    "player2 = 6\n",
    "player2_score = 0\n",
    "\n",
    "die = 2\n",
    "rolls = 0\n",
    "\n",
    "while(player1_score < 1000 and player2_score < 1000):\n",
    "    player1 = mod10(player1 + 3*die)\n",
    "    player1_score += player1\n",
    "    die = mod100(die + 3)\n",
    "    rolls += 3\n",
    "    \n",
    "    if(player1_score >= 1000):\n",
    "        break\n",
    "\n",
    "    player2 = mod10(player2 + 3*die)\n",
    "    player2_score += player2\n",
    "    die = mod100(die + 3)\n",
    "    rolls += 3"
   ]
  },
  {
   "cell_type": "code",
   "execution_count": 110,
   "id": "fb7f39d1",
   "metadata": {},
   "outputs": [
    {
     "data": {
      "text/plain": [
       "901"
      ]
     },
     "execution_count": 110,
     "metadata": {},
     "output_type": "execute_result"
    }
   ],
   "source": [
    "player2_score"
   ]
  },
  {
   "cell_type": "code",
   "execution_count": 111,
   "id": "89cda4e3",
   "metadata": {},
   "outputs": [
    {
     "data": {
      "text/plain": [
       "1006"
      ]
     },
     "execution_count": 111,
     "metadata": {},
     "output_type": "execute_result"
    }
   ],
   "source": [
    "player1_score"
   ]
  },
  {
   "cell_type": "code",
   "execution_count": 113,
   "id": "74c9fc96",
   "metadata": {},
   "outputs": [],
   "source": [
    "puzzle.answer_a = rolls*player2_score"
   ]
  },
  {
   "cell_type": "code",
   "execution_count": 132,
   "id": "7b444bc5",
   "metadata": {
    "scrolled": true
   },
   "outputs": [
    {
     "name": "stdout",
     "output_type": "stream",
     "text": [
      "49 0 0\n",
      "2401 0 0\n",
      "12051 2183355 29287440\n",
      "8188 4391441811 46937590452\n",
      "4340 1173092963715 5271381720982\n",
      "1960 42502173735155 68821456760102\n",
      "550 248989547965751 143161132240484\n",
      "70 306367295060511 145727753818048\n",
      "1 306719684424126 145727874122839\n",
      "0 306719685234774 145727874122839\n",
      "0 306719685234774 145727874122839\n",
      "0 306719685234774 145727874122839\n",
      "0 306719685234774 145727874122839\n",
      "0 306719685234774 145727874122839\n",
      "0 306719685234774 145727874122839\n",
      "0 306719685234774 145727874122839\n",
      "0 306719685234774 145727874122839\n",
      "0 306719685234774 145727874122839\n",
      "0 306719685234774 145727874122839\n",
      "0 306719685234774 145727874122839\n"
     ]
    }
   ],
   "source": [
    "from collections import defaultdict\n",
    "player_state = defaultdict(int)\n",
    "player_state[(10, 0, 6, 0)] = 1\n",
    "\n",
    "# rolls = [3, 4, 4, 4, 5, 5, 5, 5, 5, 5, 6, 6, 6, 6, 6, 6, 6, 7, 7, 7, 7, 7, 7, 8, 8, 8, 9]\n",
    "rolls = {3: 1, 4: 3, 5: 6, 6: 7, 7: 6, 8: 3, 9: 1}\n",
    "\n",
    "def iteration(state):\n",
    "    a_wins = 0\n",
    "    b_wins = 0\n",
    "    new_state = defaultdict(int)\n",
    "    for key in state:\n",
    "        a, a_s, b, b_s = key\n",
    "        for roll in rolls:\n",
    "            new_a = mod10(a + roll)\n",
    "            new_a_s = a_s + new_a\n",
    "            if(new_a_s >= 21):\n",
    "                a_wins += state[key] * rolls[roll]\n",
    "            else:\n",
    "                new_state[(new_a, new_a_s, b, b_s)] += state[key] * rolls[roll]\n",
    "\n",
    "    state = new_state\n",
    "                \n",
    "    new_state = defaultdict(int)\n",
    "    for key in state:\n",
    "        a, a_s, b, b_s = key\n",
    "        for roll in rolls:\n",
    "            new_b = mod10(b + roll)\n",
    "            new_b_s = b_s + new_b\n",
    "            if(new_b_s >= 21):\n",
    "                b_wins += state[key] * rolls[roll]\n",
    "            else:\n",
    "                new_state[(a, a_s, new_b, new_b_s)] += state[key] * rolls[roll]\n",
    "    return (new_state, a_wins, b_wins)\n",
    "\n",
    "a_wins = 0\n",
    "b_wins = 0\n",
    "for i in range(20):\n",
    "    (player_state, new_a_wins, new_b_wins) = iteration(player_state)\n",
    "    a_wins += new_a_wins\n",
    "    b_wins += new_b_wins\n",
    "puzzle.answer_b = player_a "
   ]
  },
  {
   "cell_type": "code",
   "execution_count": null,
   "id": "41d75f19",
   "metadata": {},
   "outputs": [],
   "source": []
  }
 ],
 "metadata": {
  "kernelspec": {
   "display_name": "Python 3 (ipykernel)",
   "language": "python",
   "name": "python3"
  },
  "language_info": {
   "codemirror_mode": {
    "name": "ipython",
    "version": 3
   },
   "file_extension": ".py",
   "mimetype": "text/x-python",
   "name": "python",
   "nbconvert_exporter": "python",
   "pygments_lexer": "ipython3",
   "version": "3.9.9"
  }
 },
 "nbformat": 4,
 "nbformat_minor": 5
}

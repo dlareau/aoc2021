{
 "cells": [
  {
   "cell_type": "code",
   "execution_count": 6,
   "id": "3feab2be",
   "metadata": {},
   "outputs": [],
   "source": [
    "import aocd\n",
    "from collections import Counter, defaultdict\n",
    "%run helper.ipynb\n",
    "puzzle = aocd.models.Puzzle(year=2021, day=6)\n",
    "data = list(map(int, puzzle.input_data.split(\",\")))"
   ]
  },
  {
   "cell_type": "code",
   "execution_count": 7,
   "id": "7026a46a",
   "metadata": {},
   "outputs": [],
   "source": [
    "def grow_dict(fish_dict):\n",
    "    new_dict = {}\n",
    "    for i in range(1, 9):\n",
    "        new_dict[i-1] = fish_dict[i]\n",
    "        new_dict[6] = fish_dict[0] + fish_dict[7]\n",
    "        new_dict[8] = fish_dict[0]\n",
    "    return new_dict"
   ]
  },
  {
   "cell_type": "code",
   "execution_count": 8,
   "id": "bfefa99d",
   "metadata": {},
   "outputs": [],
   "source": [
    "def grow_fish(days):\n",
    "    fish = defaultdict(int, Counter(data))\n",
    "    for i in range(days):\n",
    "        fish = grow_dict(fish)\n",
    "    return sum(list(fish.values()))"
   ]
  },
  {
   "cell_type": "code",
   "execution_count": 9,
   "id": "8b5dc73b",
   "metadata": {},
   "outputs": [],
   "source": [
    "puzzle.answer_a = grow_fish(80)"
   ]
  },
  {
   "cell_type": "code",
   "execution_count": 10,
   "id": "5c49556a",
   "metadata": {},
   "outputs": [],
   "source": [
    "puzzle.answer_b = grow_fish(256)"
   ]
  },
  {
   "cell_type": "code",
   "execution_count": null,
   "id": "fb4d2c12",
   "metadata": {},
   "outputs": [],
   "source": []
  }
 ],
 "metadata": {
  "kernelspec": {
   "display_name": "Python 3 (ipykernel)",
   "language": "python",
   "name": "python3"
  },
  "language_info": {
   "codemirror_mode": {
    "name": "ipython",
    "version": 3
   },
   "file_extension": ".py",
   "mimetype": "text/x-python",
   "name": "python",
   "nbconvert_exporter": "python",
   "pygments_lexer": "ipython3",
   "version": "3.9.9"
  }
 },
 "nbformat": 4,
 "nbformat_minor": 5
}

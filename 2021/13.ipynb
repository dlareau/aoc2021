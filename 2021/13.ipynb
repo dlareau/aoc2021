{
 "cells": [
  {
   "cell_type": "code",
   "execution_count": 11,
   "id": "aeb226b1",
   "metadata": {},
   "outputs": [],
   "source": [
    "import aocd\n",
    "import numpy as np\n",
    "%run helper.ipynb\n",
    "puzzle = aocd.models.Puzzle(year=2021, day=13)\n",
    "raw = puzzle.input_data\n",
    "instructions = [x.lstrip(\"fold along \").split(\"=\") for x in raw.split(\"\\n\\n\")[1].split(\"\\n\")]\n",
    "data = [tuple(map(int,x.split(\",\"))) for x in raw.split(\"\\n\\n\")[0].split(\"\\n\")]"
   ]
  },
  {
   "cell_type": "code",
   "execution_count": 12,
   "id": "ae75ec66",
   "metadata": {},
   "outputs": [],
   "source": [
    "paper_size_x = max([x[0] for x in data]) + 1\n",
    "paper_size_y = max([x[1] for x in data]) + 1"
   ]
  },
  {
   "cell_type": "code",
   "execution_count": 13,
   "id": "6db3079b",
   "metadata": {},
   "outputs": [],
   "source": [
    "paper = np.zeros((paper_size_x, paper_size_y), dtype=np.int32)"
   ]
  },
  {
   "cell_type": "code",
   "execution_count": 14,
   "id": "bdeb1b8f",
   "metadata": {},
   "outputs": [],
   "source": [
    "for point in data:\n",
    "    paper[point] = 1"
   ]
  },
  {
   "cell_type": "code",
   "execution_count": 15,
   "id": "e1ffc5b2",
   "metadata": {},
   "outputs": [],
   "source": [
    "def fold(paper, direction, idx):\n",
    "    idx = int(idx)\n",
    "    if(direction == 'x'):\n",
    "        axis = 0\n",
    "    if (direction == 'y'):\n",
    "        axis = 1\n",
    "    split = np.split(paper, [idx, idx+1], axis=axis)\n",
    "    stable = split[0]\n",
    "    mirror = np.flip(split[2], axis=axis)\n",
    "    pad_val = [(0,0), (0,0)]\n",
    "    if(np.ma.size(stable, axis=axis) < np.ma.size(mirror, axis=axis)):\n",
    "        pad_len = np.ma.size(mirror, axis=axis) - np.ma.size(stable, axis=axis)\n",
    "        pad_val[axis] = (pad_len, 0)\n",
    "        stable = np.pad(stable, pad_val)\n",
    "        print(\"bad center\")\n",
    "        \n",
    "    elif(np.ma.size(stable, axis=axis) > np.ma.size(mirror, axis=axis)):\n",
    "        pad_len = np.ma.size(stable, axis=axis) - np.ma.size(mirror, axis=axis)\n",
    "        pad_val[axis] = (pad_len, 0)\n",
    "        mirror = np.pad(mirror, pad_val)\n",
    "        print(\"bad center\")\n",
    "    else:\n",
    "        print(\"centered\")\n",
    "    return stable + mirror"
   ]
  },
  {
   "cell_type": "code",
   "execution_count": 16,
   "id": "87e69766",
   "metadata": {},
   "outputs": [
    {
     "name": "stdout",
     "output_type": "stream",
     "text": [
      "centered\n"
     ]
    }
   ],
   "source": [
    "final = fold(paper, 'x', 655)"
   ]
  },
  {
   "cell_type": "code",
   "execution_count": 17,
   "id": "1764c16c",
   "metadata": {},
   "outputs": [],
   "source": [
    "puzzle.answer_a = len(final[final > 0])"
   ]
  },
  {
   "cell_type": "code",
   "execution_count": 18,
   "id": "f61fa239",
   "metadata": {},
   "outputs": [
    {
     "name": "stdout",
     "output_type": "stream",
     "text": [
      "centered\n",
      "bad center\n",
      "centered\n",
      "centered\n",
      "centered\n",
      "centered\n",
      "centered\n",
      "centered\n",
      "centered\n",
      "centered\n",
      "centered\n",
      "centered\n"
     ]
    }
   ],
   "source": [
    "for inst in instructions:\n",
    "    paper = fold(paper, inst[0], inst[1])"
   ]
  },
  {
   "cell_type": "code",
   "execution_count": 19,
   "id": "cdce779f",
   "metadata": {},
   "outputs": [
    {
     "name": "stdout",
     "output_type": "stream",
     "text": [
      "# # # # . # # # . . # # # # . # . . # . # # # . . # # # # . . . # # . # . . . .\n",
      "# . . . . # . . # . # . . . . # . # . . # . . # . # . . . . . . . # . # . . . .\n",
      "# # # . . # . . # . # # # . . # # . . . # # # . . # # # . . . . . # . # . . . .\n",
      "# . . . . # # # . . # . . . . # . # . . # . . # . # . . . . . . . # . # . . . .\n",
      "# . . . . # . . . . # . . . . # . # . . # . . # . # . . . . # . . # . # . . . .\n",
      "# . . . . # . . . . # # # # . # . . # . # # # . . # # # # . . # # . . # # # # .\n"
     ]
    }
   ],
   "source": [
    "print(\"\\n\".join([\" \".join(map(str, x)) for x in ((np.transpose(paper) > 0) + 1 - 1)]).replace(\"1\", \"#\").replace(\"0\", \".\"))"
   ]
  },
  {
   "cell_type": "code",
   "execution_count": 20,
   "id": "10ac596f",
   "metadata": {},
   "outputs": [],
   "source": [
    "puzzle.answer_b = \"FPEKBEJL\""
   ]
  },
  {
   "cell_type": "code",
   "execution_count": null,
   "id": "c6f07ee5",
   "metadata": {},
   "outputs": [],
   "source": []
  }
 ],
 "metadata": {
  "kernelspec": {
   "display_name": "Python 3 (ipykernel)",
   "language": "python",
   "name": "python3"
  },
  "language_info": {
   "codemirror_mode": {
    "name": "ipython",
    "version": 3
   },
   "file_extension": ".py",
   "mimetype": "text/x-python",
   "name": "python",
   "nbconvert_exporter": "python",
   "pygments_lexer": "ipython3",
   "version": "3.9.9"
  }
 },
 "nbformat": 4,
 "nbformat_minor": 5
}

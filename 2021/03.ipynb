{
 "cells": [
  {
   "cell_type": "code",
   "execution_count": 78,
   "id": "17ac36ed",
   "metadata": {},
   "outputs": [],
   "source": [
    "import aocd\n",
    "%run helper.ipynb\n",
    "puzzle = aocd.models.Puzzle(year=2021, day=3)\n",
    "data = puzzle.input_data.split(\"\\n\")"
   ]
  },
  {
   "cell_type": "code",
   "execution_count": 63,
   "id": "13533fd3",
   "metadata": {},
   "outputs": [],
   "source": [
    "sums = [sum([int(x[i]) for x in data]) for i in range(len(data[0]))]"
   ]
  },
  {
   "cell_type": "code",
   "execution_count": 64,
   "id": "c228fa41",
   "metadata": {},
   "outputs": [],
   "source": [
    "gamma = int(\"\".join([(\"1\" if x > (len(data)/2) else \"0\") for x in sums ]),2)"
   ]
  },
  {
   "cell_type": "code",
   "execution_count": 66,
   "id": "2687c0d8",
   "metadata": {},
   "outputs": [],
   "source": [
    "epsilon = int(\"\".join([(\"1\" if x <= (len(data)/2) else \"0\") for x in sums ]),2)"
   ]
  },
  {
   "cell_type": "code",
   "execution_count": 68,
   "id": "f4416af8",
   "metadata": {},
   "outputs": [],
   "source": [
    "puzzle.answer_a = gamma*epsilon"
   ]
  },
  {
   "cell_type": "code",
   "execution_count": 70,
   "id": "55d3ebab",
   "metadata": {},
   "outputs": [],
   "source": [
    "cp1 = data[:]"
   ]
  },
  {
   "cell_type": "code",
   "execution_count": 88,
   "id": "35aba43c",
   "metadata": {},
   "outputs": [],
   "source": [
    "for i in range(len(cp1[0])):\n",
    "    if(len(cp1) == 1):\n",
    "        break\n",
    "    if(sum([int(x[i]) for x in cp1])) >= len(cp1)/2:\n",
    "        common = \"1\"\n",
    "    else:\n",
    "        common = \"0\"\n",
    "    cp1 = [x for x in cp1 if x[i] == common]"
   ]
  },
  {
   "cell_type": "code",
   "execution_count": 89,
   "id": "c3ef1100",
   "metadata": {},
   "outputs": [],
   "source": [
    "ox = int(cp1[0], 2)"
   ]
  },
  {
   "cell_type": "code",
   "execution_count": 90,
   "id": "a3fad923",
   "metadata": {},
   "outputs": [],
   "source": [
    "cp2 = data[:]"
   ]
  },
  {
   "cell_type": "code",
   "execution_count": 91,
   "id": "6d455e71",
   "metadata": {},
   "outputs": [],
   "source": [
    "for i in range(len(cp2[0])):\n",
    "    if(len(cp2) == 1):\n",
    "        break\n",
    "    if(sum([int(x[i]) for x in cp2])) < len(cp2)/2:\n",
    "        common = \"1\"\n",
    "    else:\n",
    "        common = \"0\"\n",
    "    cp2 = [x for x in cp2 if x[i] == common]"
   ]
  },
  {
   "cell_type": "code",
   "execution_count": 92,
   "id": "30b45e4d",
   "metadata": {},
   "outputs": [],
   "source": [
    "c2 = int(cp2[0], 2)"
   ]
  },
  {
   "cell_type": "code",
   "execution_count": 93,
   "id": "148f1f9c",
   "metadata": {},
   "outputs": [],
   "source": [
    "puzzle.answer_b = ox*c2"
   ]
  },
  {
   "cell_type": "code",
   "execution_count": null,
   "id": "0a142ef2",
   "metadata": {},
   "outputs": [],
   "source": []
  }
 ],
 "metadata": {
  "kernelspec": {
   "display_name": "Python 3 (ipykernel)",
   "language": "python",
   "name": "python3"
  },
  "language_info": {
   "codemirror_mode": {
    "name": "ipython",
    "version": 3
   },
   "file_extension": ".py",
   "mimetype": "text/x-python",
   "name": "python",
   "nbconvert_exporter": "python",
   "pygments_lexer": "ipython3",
   "version": "3.9.9"
  }
 },
 "nbformat": 4,
 "nbformat_minor": 5
}

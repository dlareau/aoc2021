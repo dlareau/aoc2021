{
 "cells": [
  {
   "cell_type": "code",
   "execution_count": 13,
   "id": "9bed074f",
   "metadata": {},
   "outputs": [],
   "source": [
    "import aocd\n",
    "import re\n",
    "import numpy as np\n",
    "%run helper.ipynb\n",
    "puzzle = aocd.models.Puzzle(year=2021, day=16)\n",
    "data = list(puzzle.input_data)"
   ]
  },
  {
   "cell_type": "code",
   "execution_count": 14,
   "id": "287f2360",
   "metadata": {},
   "outputs": [],
   "source": [
    "packet = \"\".join([bin(int(x, 16))[2:].zfill(4) for x in data])"
   ]
  },
  {
   "cell_type": "code",
   "execution_count": 15,
   "id": "230449a4",
   "metadata": {},
   "outputs": [],
   "source": [
    "def parse_packets(packet, versions, values, num_packets, num_bits):\n",
    "    packets_parsed = 0\n",
    "    bits_parsed = 0\n",
    "    \n",
    "    while(packets_parsed != num_packets and bits_parsed != num_bits):\n",
    "        sub_values = []\n",
    "        version = packet[0:3]\n",
    "        versions.append(version)\n",
    "        type_id = int(packet[3:6], 2)\n",
    "\n",
    "        if(type_id == 4):\n",
    "            total = \"\"\n",
    "            parts = chunks(packet[6:], 5)\n",
    "            for part in parts:\n",
    "                total += part[1:5]\n",
    "                if(part[0] == \"0\"):\n",
    "                    break\n",
    "            sub_values.append(int(total, 2))\n",
    "            bits_used = (len(total)//4) * 5 + 6\n",
    "            \n",
    "        else:\n",
    "            if(packet[6] == \"0\"):\n",
    "                length = int(packet[7:22], 2)\n",
    "                parse_packets(packet[22:22+length], versions, sub_values, -1, length)\n",
    "                bits_used = 22+length\n",
    "            else:\n",
    "                length = int(packet[7:18], 2)\n",
    "                retval = parse_packets(packet[18:], versions, sub_values, length, -1)\n",
    "                bits_used = 18+retval\n",
    "\n",
    "        bits_parsed += bits_used\n",
    "        packets_parsed += 1\n",
    "        packet = packet[bits_used:]\n",
    "                \n",
    "        if(type_id == 0):\n",
    "            values.append(sum(sub_values))\n",
    "        elif(type_id == 1):\n",
    "            values.append(np.prod(sub_values))\n",
    "        elif(type_id == 2):\n",
    "            values.append(min(sub_values))\n",
    "        elif(type_id == 3):\n",
    "            values.append(max(sub_values))\n",
    "        elif(type_id == 4):\n",
    "            values.append(sub_values[0])\n",
    "        elif(type_id == 5):\n",
    "            values.append(1 if sub_values[0] > sub_values[1] else 0)\n",
    "        elif(type_id == 6):\n",
    "            values.append(1 if sub_values[0] < sub_values[1] else 0)\n",
    "        elif(type_id == 7):\n",
    "            values.append(1 if sub_values[0] == sub_values[1] else 0)\n",
    "        \n",
    "    return bits_parsed\n",
    "                "
   ]
  },
  {
   "cell_type": "code",
   "execution_count": 16,
   "id": "25e34799",
   "metadata": {},
   "outputs": [],
   "source": [
    "versions = []\n",
    "values = []\n",
    "retval = parse_packets(packet, versions, values, 1, -1)"
   ]
  },
  {
   "cell_type": "code",
   "execution_count": 17,
   "id": "9c3510aa",
   "metadata": {},
   "outputs": [],
   "source": [
    "puzzle.answer_a = sum([int(x, 2) for x in versions])"
   ]
  },
  {
   "cell_type": "code",
   "execution_count": 18,
   "id": "99ae511d",
   "metadata": {},
   "outputs": [],
   "source": [
    "puzzle.answer_b = str(values[0])"
   ]
  },
  {
   "cell_type": "code",
   "execution_count": null,
   "id": "6210ae03",
   "metadata": {},
   "outputs": [],
   "source": []
  }
 ],
 "metadata": {
  "kernelspec": {
   "display_name": "Python 3 (ipykernel)",
   "language": "python",
   "name": "python3"
  },
  "language_info": {
   "codemirror_mode": {
    "name": "ipython",
    "version": 3
   },
   "file_extension": ".py",
   "mimetype": "text/x-python",
   "name": "python",
   "nbconvert_exporter": "python",
   "pygments_lexer": "ipython3",
   "version": "3.9.9"
  }
 },
 "nbformat": 4,
 "nbformat_minor": 5
}

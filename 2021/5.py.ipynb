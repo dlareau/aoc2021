{
 "cells": [
  {
   "cell_type": "code",
   "execution_count": 100,
   "id": "fd7640d8",
   "metadata": {},
   "outputs": [],
   "source": [
    "def flatten(t):\n",
    "    return [item for sublist in t for item in sublist]"
   ]
  },
  {
   "cell_type": "code",
   "execution_count": 101,
   "id": "a79f7ab3",
   "metadata": {},
   "outputs": [],
   "source": [
    "import aocd\n",
    "import re\n",
    "from collections import Counter\n",
    "puzzle = aocd.models.Puzzle(year=2021, day=5)\n",
    "data = puzzle.input_data.split(\"\\n\")\n",
    "data = [list(map(int, re.match(\"(\\d+),(\\d+) -> (\\d+),(\\d+)\", x).groups())) for x in data]"
   ]
  },
  {
   "cell_type": "code",
   "execution_count": 102,
   "id": "2d0e8e12",
   "metadata": {},
   "outputs": [],
   "source": [
    "data_hv = [x for x in data if x[0] == x[2] or x[1] == x[3]]"
   ]
  },
  {
   "cell_type": "code",
   "execution_count": 96,
   "id": "e59dfcbd",
   "metadata": {},
   "outputs": [],
   "source": [
    "def expand_points(points):\n",
    "    if(points[0] == points[2]):\n",
    "        if(points[1] > points[3]):\n",
    "            return [(points[0], x) for x in range(points[3], points[1]+1)]\n",
    "        else:\n",
    "            return [(points[0], x) for x in range(points[1], points[3]+1)]\n",
    "    if(points[1] == points[3]):\n",
    "        if(points[0] > points[2]):\n",
    "            return [(x, points[1]) for x in range(points[2], points[0]+1)]\n",
    "        else:\n",
    "            return [(x, points[1]) for x in range(points[0], points[2]+1)]\n",
    "    if(points[0] > points[2]):\n",
    "        diff = points[0] - points[2]\n",
    "        if(points[1] < points[3]):\n",
    "            return [(points[0] - x, points[1] + x) for x in range(0, diff+1)]\n",
    "        else:\n",
    "            return [(points[2] + x, points[3] + x) for x in range(0, diff+1)]\n",
    "    else:\n",
    "        diff = points[2] - points[0]\n",
    "        if(points[1] < points[3]):\n",
    "            return [(points[0] + x, points[1] + x) for x in range(0, diff+1)]\n",
    "        else:\n",
    "            return [(points[2] - x, points[3] + x) for x in range(0, diff+1)]\n",
    "        return []"
   ]
  },
  {
   "cell_type": "code",
   "execution_count": 106,
   "id": "d790561b",
   "metadata": {},
   "outputs": [],
   "source": [
    "def get_overlaps(points):\n",
    "    full_points = [expand_points(points) for points in points]\n",
    "    flat = flatten(full_points)\n",
    "    return len([x for x in dict(Counter(flat).items()).values() if x > 1])"
   ]
  },
  {
   "cell_type": "code",
   "execution_count": 107,
   "id": "59cdfbff",
   "metadata": {},
   "outputs": [],
   "source": [
    "puzzle.answer_a = get_overlaps(data_hv)"
   ]
  },
  {
   "cell_type": "code",
   "execution_count": 108,
   "id": "42f1e6f9",
   "metadata": {},
   "outputs": [],
   "source": [
    "puzzle.answer_b = get_overlaps(data)"
   ]
  },
  {
   "cell_type": "code",
   "execution_count": null,
   "id": "ccd12dcc",
   "metadata": {},
   "outputs": [],
   "source": []
  }
 ],
 "metadata": {
  "kernelspec": {
   "display_name": "Python 3 (ipykernel)",
   "language": "python",
   "name": "python3"
  },
  "language_info": {
   "codemirror_mode": {
    "name": "ipython",
    "version": 3
   },
   "file_extension": ".py",
   "mimetype": "text/x-python",
   "name": "python",
   "nbconvert_exporter": "python",
   "pygments_lexer": "ipython3",
   "version": "3.9.9"
  }
 },
 "nbformat": 4,
 "nbformat_minor": 5
}

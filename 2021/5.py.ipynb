{
 "cells": [
  {
   "cell_type": "code",
   "execution_count": 100,
   "id": "786e4eca",
   "metadata": {},
   "outputs": [],
   "source": [
    "def flatten(t):\n",
    "    return [item for sublist in t for item in sublist]"
   ]
  },
  {
   "cell_type": "code",
   "execution_count": 101,
   "id": "90215402",
   "metadata": {},
   "outputs": [],
   "source": [
    "import aocd\n",
    "import re\n",
    "from collections import Counter\n",
    "puzzle = aocd.models.Puzzle(year=2021, day=5)\n",
    "data = puzzle.input_data.split(\"\\n\")\n",
    "data = [list(map(int, re.match(\"(\\d+),(\\d+) -> (\\d+),(\\d+)\", x).groups())) for x in data]"
   ]
  },
  {
   "cell_type": "code",
   "execution_count": 102,
   "id": "efededf4",
   "metadata": {},
   "outputs": [],
   "source": [
    "data_hv = [x for x in data if x[0] == x[2] or x[1] == x[3]]"
   ]
  },
  {
   "cell_type": "code",
   "execution_count": 96,
   "id": "0c3b071e",
   "metadata": {},
   "outputs": [],
   "source": [
    "def expand_points(points):\n",
    "    if(points[0] == points[2]):\n",
    "        if(points[1] > points[3]):\n",
    "            return [(points[0], x) for x in range(points[3], points[1]+1)]\n",
    "        else:\n",
    "            return [(points[0], x) for x in range(points[1], points[3]+1)]\n",
    "    if(points[1] == points[3]):\n",
    "        if(points[0] > points[2]):\n",
    "            return [(x, points[1]) for x in range(points[2], points[0]+1)]\n",
    "        else:\n",
    "            return [(x, points[1]) for x in range(points[0], points[2]+1)]\n",
    "    if(points[0] > points[2]):\n",
    "        diff = points[0] - points[2]\n",
    "        if(points[1] < points[3]):\n",
    "            return [(points[0] - x, points[1] + x) for x in range(0, diff+1)]\n",
    "        else:\n",
    "            return [(points[2] + x, points[3] + x) for x in range(0, diff+1)]\n",
    "    else:\n",
    "        diff = points[2] - points[0]\n",
    "        if(points[1] < points[3]):\n",
    "            return [(points[0] + x, points[1] + x) for x in range(0, diff+1)]\n",
    "        else:\n",
    "            return [(points[2] - x, points[3] + x) for x in range(0, diff+1)]\n",
    "        return []"
   ]
  },
  {
   "cell_type": "code",
   "execution_count": 106,
   "id": "829e2c78",
   "metadata": {},
   "outputs": [],
   "source": [
    "def get_overlaps(points):\n",
    "    full_points = [expand_points(points) for points in points]\n",
    "    flat = flatten(full_points)\n",
    "    return len([x for x in dict(Counter(flat).items()).values() if x > 1])"
   ]
  },
  {
   "cell_type": "code",
   "execution_count": 107,
   "id": "0db34942",
   "metadata": {},
   "outputs": [],
   "source": [
    "puzzle.answer_a = get_overlaps(data_hv)"
   ]
  },
  {
   "cell_type": "code",
   "execution_count": 108,
   "id": "46a62c17",
   "metadata": {},
   "outputs": [],
   "source": [
    "puzzle.answer_b = get_overlaps(data)"
   ]
  },
  {
   "cell_type": "code",
   "execution_count": 61,
   "id": "74e73e93",
   "metadata": {},
   "outputs": [
    {
     "data": {
      "text/plain": [
       "5280"
      ]
     },
     "execution_count": 61,
     "metadata": {},
     "output_type": "execute_result"
    }
   ],
   "source": [
    "len([x for x in dict(Counter(flat).items()).values() if x > 1])"
   ]
  },
  {
   "cell_type": "code",
   "execution_count": 97,
   "id": "a9452e5d",
   "metadata": {},
   "outputs": [],
   "source": [
    "diag_points = [expand_points(points) for points in data]"
   ]
  },
  {
   "cell_type": "code",
   "execution_count": 98,
   "id": "c558adbd",
   "metadata": {},
   "outputs": [],
   "source": [
    "flat2 = flatten(diag_points)"
   ]
  },
  {
   "cell_type": "code",
   "execution_count": 99,
   "id": "a0780440",
   "metadata": {},
   "outputs": [
    {
     "data": {
      "text/plain": [
       "16716"
      ]
     },
     "execution_count": 99,
     "metadata": {},
     "output_type": "execute_result"
    }
   ],
   "source": [
    "len([x for x in dict(Counter(flat2).items()).values() if x > 1])"
   ]
  },
  {
   "cell_type": "code",
   "execution_count": 95,
   "id": "284d47e1",
   "metadata": {},
   "outputs": [
    {
     "data": {
      "text/plain": [
       "[]"
      ]
     },
     "execution_count": 95,
     "metadata": {},
     "output_type": "execute_result"
    }
   ],
   "source": [
    "[x for x in diag_points if len(x) == 0]"
   ]
  },
  {
   "cell_type": "code",
   "execution_count": 86,
   "id": "1a96c130",
   "metadata": {},
   "outputs": [
    {
     "data": {
      "text/plain": [
       "[(595, 965),\n",
       " (596, 964),\n",
       " (597, 963),\n",
       " (598, 962),\n",
       " (599, 961),\n",
       " (600, 960),\n",
       " (601, 959),\n",
       " (602, 958),\n",
       " (603, 957),\n",
       " (604, 956),\n",
       " (605, 955),\n",
       " (606, 954),\n",
       " (607, 953),\n",
       " (608, 952),\n",
       " (609, 951),\n",
       " (610, 950),\n",
       " (611, 949)]"
      ]
     },
     "execution_count": 86,
     "metadata": {},
     "output_type": "execute_result"
    }
   ],
   "source": [
    "diag_points[18]"
   ]
  },
  {
   "cell_type": "code",
   "execution_count": null,
   "id": "cf7c82fb",
   "metadata": {},
   "outputs": [],
   "source": []
  }
 ],
 "metadata": {
  "kernelspec": {
   "display_name": "Python 3 (ipykernel)",
   "language": "python",
   "name": "python3"
  },
  "language_info": {
   "codemirror_mode": {
    "name": "ipython",
    "version": 3
   },
   "file_extension": ".py",
   "mimetype": "text/x-python",
   "name": "python",
   "nbconvert_exporter": "python",
   "pygments_lexer": "ipython3",
   "version": "3.9.9"
  }
 },
 "nbformat": 4,
 "nbformat_minor": 5
}

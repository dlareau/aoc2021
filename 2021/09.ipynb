{
 "cells": [
  {
   "cell_type": "code",
   "execution_count": 30,
   "id": "9e45a29c",
   "metadata": {},
   "outputs": [],
   "source": [
    "import aocd\n",
    "import re\n",
    "import numpy as np\n",
    "import copy\n",
    "from collections import Counter, defaultdict\n",
    "puzzle = aocd.models.Puzzle(year=2021, day=9)\n",
    "data = [[int(y) for y in x] for x in puzzle.input_data.split(\"\\n\")]"
   ]
  },
  {
   "cell_type": "code",
   "execution_count": 21,
   "id": "106c23e8",
   "metadata": {},
   "outputs": [],
   "source": [
    "def is_low(i, j, d):\n",
    "    if(i != 0 and d[i-1][j] <= d[i][j]):\n",
    "        return False\n",
    "    if(j != 0 and d[i][j-1] <= d[i][j]):\n",
    "        return False\n",
    "    if(i != len(d) - 1 and d[i+1][j] <= d[i][j]):\n",
    "        return False\n",
    "    if(j != len(d[0]) - 1 and d[i][j+1] <= d[i][j]):\n",
    "        return False\n",
    "    return True"
   ]
  },
  {
   "cell_type": "code",
   "execution_count": 26,
   "id": "7dfb8441",
   "metadata": {},
   "outputs": [],
   "source": [
    "total = 0\n",
    "low_points = []\n",
    "for i in range(len(data)):\n",
    "    for j in range(len(data[0])):\n",
    "        if(is_low(i, j ,data)):\n",
    "            low_points.append((i,j))\n",
    "            total += data[i][j] + 1"
   ]
  },
  {
   "cell_type": "code",
   "execution_count": 79,
   "id": "d140df0d",
   "metadata": {},
   "outputs": [],
   "source": [
    "puzzle.answer_a = total"
   ]
  },
  {
   "cell_type": "code",
   "execution_count": 34,
   "id": "62e09f6c",
   "metadata": {},
   "outputs": [],
   "source": [
    "def flood_basin(low, d):\n",
    "    i = low[0]\n",
    "    j = low[1]\n",
    "    if(d[i][j] == 9):\n",
    "        return\n",
    "    d[i][j] = -1\n",
    "    if(i != 0 and d[i-1][j] > d[i][j]):\n",
    "        flood_basin((i-1,j), d)\n",
    "    if(j != 0 and d[i][j-1] > d[i][j]):\n",
    "        flood_basin((i,j-1), d)\n",
    "    if(i != len(d) - 1 and d[i+1][j] > d[i][j]):\n",
    "        flood_basin((i+1,j), d)\n",
    "    if(j != len(d[0]) - 1 and d[i][j+1] > d[i][j]):\n",
    "        flood_basin((i,j+1), d)"
   ]
  },
  {
   "cell_type": "code",
   "execution_count": 58,
   "id": "c3aa4670",
   "metadata": {},
   "outputs": [],
   "source": [
    "def count_basin(low, d):\n",
    "    d_c = copy.deepcopy(d)\n",
    "    flood_basin(low, d_c)\n",
    "    return np.count_nonzero(np.asarray(d_c) == -1)"
   ]
  },
  {
   "cell_type": "code",
   "execution_count": 60,
   "id": "3823c0b2",
   "metadata": {},
   "outputs": [],
   "source": [
    "basins = [count_basin(low, data) for low in low_points]"
   ]
  },
  {
   "cell_type": "code",
   "execution_count": 81,
   "id": "3eb25e74",
   "metadata": {},
   "outputs": [],
   "source": [
    "puzzle.answer_b = int(numpy.prod(sorted(basins)[-3:]))"
   ]
  },
  {
   "cell_type": "code",
   "execution_count": null,
   "id": "de0c5a63",
   "metadata": {},
   "outputs": [],
   "source": []
  }
 ],
 "metadata": {
  "kernelspec": {
   "display_name": "Python 3 (ipykernel)",
   "language": "python",
   "name": "python3"
  },
  "language_info": {
   "codemirror_mode": {
    "name": "ipython",
    "version": 3
   },
   "file_extension": ".py",
   "mimetype": "text/x-python",
   "name": "python",
   "nbconvert_exporter": "python",
   "pygments_lexer": "ipython3",
   "version": "3.9.9"
  }
 },
 "nbformat": 4,
 "nbformat_minor": 5
}

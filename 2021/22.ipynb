{
 "cells": [
  {
   "cell_type": "code",
   "execution_count": 1,
   "id": "5cf84169",
   "metadata": {},
   "outputs": [],
   "source": [
    "import aocd\n",
    "import numpy as np\n",
    "import re\n",
    "from collections import defaultdict\n",
    "%run helper.ipynb\n",
    "puzzle = aocd.models.Puzzle(year=2021, day=22)\n",
    "data = puzzle.input_data.split(\"\\n\")\n",
    "data = [re.match(\"(on|off) x=(.*)\\.\\.(.*),y=(.*)\\.\\.(.*),z=(.*)\\.\\.(.*)\", x).groups() for x in data]\n",
    "data = [tuple([1 if x[0] == \"on\" else 0] + list(map(int,x[1:]))) for x in data]"
   ]
  },
  {
   "cell_type": "code",
   "execution_count": 2,
   "id": "9cec94b1",
   "metadata": {},
   "outputs": [],
   "source": [
    "# Part a, just numpy it out and worry about the part b later\n",
    "space = np.zeros((101, 101, 101))\n",
    "for inst in data[:20]:\n",
    "    space[inst[1]+50:inst[2]+51, inst[3]+50:inst[4]+51, inst[5]+50:inst[6]+51] = inst[0]\n",
    "puzzle.answer_a = len(space[space == 1])"
   ]
  },
  {
   "cell_type": "code",
   "execution_count": 3,
   "id": "57738d0d",
   "metadata": {},
   "outputs": [],
   "source": [
    "class Box:\n",
    "    def __init__(self, value, x_min, x_max, y_min, y_max, z_min, z_max):\n",
    "        self.value = value\n",
    "        self.x_min = x_min\n",
    "        self.x_max = x_max\n",
    "        self.y_min = y_min\n",
    "        self.y_max = y_max\n",
    "        self.z_min = z_min\n",
    "        self.z_max = z_max\n",
    "    \n",
    "    def overlaps(self, box):\n",
    "        x_overlaps = max(self.x_min, box.x_min) <= min(self.x_max, box.x_max)\n",
    "        y_overlaps = max(self.y_min, box.y_min) <= min(self.y_max, box.y_max)\n",
    "        z_overlaps = max(self.z_min, box.z_min) <= min(self.z_max, box.z_max)\n",
    "        return x_overlaps and y_overlaps and z_overlaps\n",
    "    \n",
    "    def size(self):\n",
    "        return (self.x_max - self.x_min + 1) * (self.y_max - self.y_min + 1) * (self.z_max - self.z_min + 1)\n",
    "    \n",
    "    def divide(self, box):\n",
    "        if(not self.overlaps(box)):\n",
    "            return [self]\n",
    "\n",
    "        # turn self into 0-6 smaller boxes, leave box untouched.\n",
    "        x_min_inside = self.x_min <= box.x_min and box.x_min <= self.x_max\n",
    "        x_max_inside = self.x_min <= box.x_max and box.x_max <= self.x_max\n",
    "        \n",
    "        y_min_inside = self.y_min <= box.y_min and box.y_min <= self.y_max\n",
    "        y_max_inside = self.y_min <= box.y_max and box.y_max <= self.y_max\n",
    "        \n",
    "        z_min_inside = self.z_min <= box.z_min and box.z_min <= self.z_max\n",
    "        z_max_inside = self.z_min <= box.z_max and box.z_max <= self.z_max\n",
    "            \n",
    "        boxes = []\n",
    "        \n",
    "        if(x_min_inside):\n",
    "            boxes.append(Box(self.value, self.x_min, box.x_min-1, self.y_min, self.y_max, self.z_min, self.z_max))\n",
    "            self.x_min = box.x_min\n",
    "        if(x_max_inside):\n",
    "            boxes.append(Box(self.value, box.x_max + 1, self.x_max, self.y_min, self.y_max, self.z_min, self.z_max))\n",
    "            self.x_max = box.x_max\n",
    "        \n",
    "        if(y_min_inside):\n",
    "            boxes.append(Box(self.value, self.x_min, self.x_max, self.y_min, box.y_min-1, self.z_min, self.z_max))\n",
    "            self.y_min = box.y_min\n",
    "        if(y_max_inside):\n",
    "            boxes.append(Box(self.value, self.x_min, self.x_max, box.y_max + 1, self.y_max, self.z_min, self.z_max))\n",
    "            self.y_max = box.y_max\n",
    "            \n",
    "        if(z_min_inside):\n",
    "            boxes.append(Box(self.value, self.x_min, self.x_max, self.y_min, self.y_max, self.z_min, box.z_min-1))\n",
    "            self.z_min = box.z_min\n",
    "        if(z_max_inside):\n",
    "            boxes.append(Box(self.value, self.x_min, self.x_max, self.y_min, self.y_max, box.z_max + 1, self.z_max))\n",
    "            self.z_max = box.z_max\n",
    "    \n",
    "        return boxes"
   ]
  },
  {
   "cell_type": "code",
   "execution_count": 4,
   "id": "96a9e901",
   "metadata": {},
   "outputs": [],
   "source": [
    "boxes = [Box(*x) for x in data]\n",
    "non_overlapping = []\n",
    "for b1 in boxes:\n",
    "    new_boxes = []\n",
    "    for b2 in non_overlapping:\n",
    "        bs = b2.divide(b1)\n",
    "        new_boxes += bs\n",
    "    non_overlapping = new_boxes\n",
    "    if(b1.value):\n",
    "        non_overlapping.append(b1)\n",
    "\n",
    "puzzle.answer_b = sum([x.size() for x in non_overlapping])"
   ]
  },
  {
   "cell_type": "code",
   "execution_count": null,
   "id": "d9d49877",
   "metadata": {},
   "outputs": [],
   "source": []
  }
 ],
 "metadata": {
  "kernelspec": {
   "display_name": "Python 3 (ipykernel)",
   "language": "python",
   "name": "python3"
  },
  "language_info": {
   "codemirror_mode": {
    "name": "ipython",
    "version": 3
   },
   "file_extension": ".py",
   "mimetype": "text/x-python",
   "name": "python",
   "nbconvert_exporter": "python",
   "pygments_lexer": "ipython3",
   "version": "3.9.9"
  }
 },
 "nbformat": 4,
 "nbformat_minor": 5
}

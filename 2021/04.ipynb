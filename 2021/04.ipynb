{
 "cells": [
  {
   "cell_type": "code",
   "execution_count": 1,
   "id": "fd647fb9",
   "metadata": {},
   "outputs": [],
   "source": [
    "import aocd\n",
    "%run helper.ipynb\n",
    "puzzle = aocd.models.Puzzle(year=2021, day=4)\n",
    "data = puzzle.input_data.split(\"\\n\\n\")"
   ]
  },
  {
   "cell_type": "code",
   "execution_count": 2,
   "id": "b1967552",
   "metadata": {},
   "outputs": [],
   "source": [
    "numbers = data[0]\n",
    "boards = data[1:]"
   ]
  },
  {
   "cell_type": "code",
   "execution_count": 3,
   "id": "d089e1b8",
   "metadata": {},
   "outputs": [],
   "source": [
    "numbers = [int(num) for num in numbers.split(\",\")]"
   ]
  },
  {
   "cell_type": "code",
   "execution_count": 4,
   "id": "438760da",
   "metadata": {},
   "outputs": [],
   "source": [
    "boards = [[[int(num) for num in line.split(\" \") if num != \"\"] for line in board.split(\"\\n\")] for board in boards]"
   ]
  },
  {
   "cell_type": "code",
   "execution_count": 5,
   "id": "71b980d7",
   "metadata": {},
   "outputs": [],
   "source": [
    "def win_board(board, nums):\n",
    "    for row in range(5):\n",
    "        if(all([num in nums for num in board[row]])):\n",
    "            return True\n",
    "    for col in range(5):\n",
    "        if(all([num in nums for num in [row[col] for row in board]])):\n",
    "            return True"
   ]
  },
  {
   "cell_type": "code",
   "execution_count": 6,
   "id": "e4470486",
   "metadata": {},
   "outputs": [],
   "source": [
    "winning_board = None\n",
    "winning_nums = None\n",
    "for i in range(len(numbers)):\n",
    "    current_numbers = numbers[:i]\n",
    "    wins = [board for board in boards if win_board(board, current_numbers)]\n",
    "    if(len(wins) == 1):\n",
    "        winning_board = wins[0]\n",
    "        winning_nums = current_numbers\n",
    "        break"
   ]
  },
  {
   "cell_type": "code",
   "execution_count": 7,
   "id": "8cc6ff60",
   "metadata": {},
   "outputs": [],
   "source": [
    "flat = flatten(winning_board)"
   ]
  },
  {
   "cell_type": "code",
   "execution_count": 8,
   "id": "8804d558",
   "metadata": {},
   "outputs": [],
   "source": [
    "ans = sum(list(set(flat) - set(winning_nums))) * winning_nums[-1]"
   ]
  },
  {
   "cell_type": "code",
   "execution_count": 9,
   "id": "43dcd699",
   "metadata": {},
   "outputs": [],
   "source": [
    "puzzle.answer_a = ans"
   ]
  },
  {
   "cell_type": "code",
   "execution_count": 10,
   "id": "7a797d1b",
   "metadata": {
    "scrolled": true
   },
   "outputs": [],
   "source": [
    "last_boards = []\n",
    "last_board = None\n",
    "last_numbers = None\n",
    "for i in range(len(numbers)):\n",
    "    current_numbers = numbers[:i]\n",
    "    wins = [board for board in boards if win_board(board, current_numbers)]\n",
    "    if(len(wins) == len(boards)):\n",
    "        current_sets = set([tuple(flatten(board)) for board in wins])\n",
    "        last_board = current_sets - last_boards\n",
    "        last_numbers = current_numbers\n",
    "        break\n",
    "    last_boards = set([tuple(flatten(board)) for board in wins])"
   ]
  },
  {
   "cell_type": "code",
   "execution_count": 11,
   "id": "07807276",
   "metadata": {},
   "outputs": [],
   "source": [
    "ans = sum(list(set(list(last_board)[0]) - set(last_numbers)))*last_numbers[-1]"
   ]
  },
  {
   "cell_type": "code",
   "execution_count": 12,
   "id": "bfb3a081",
   "metadata": {},
   "outputs": [],
   "source": [
    "puzzle.answer_b = ans"
   ]
  },
  {
   "cell_type": "code",
   "execution_count": null,
   "id": "2a125164",
   "metadata": {},
   "outputs": [],
   "source": []
  }
 ],
 "metadata": {
  "kernelspec": {
   "display_name": "Python 3 (ipykernel)",
   "language": "python",
   "name": "python3"
  },
  "language_info": {
   "codemirror_mode": {
    "name": "ipython",
    "version": 3
   },
   "file_extension": ".py",
   "mimetype": "text/x-python",
   "name": "python",
   "nbconvert_exporter": "python",
   "pygments_lexer": "ipython3",
   "version": "3.9.9"
  }
 },
 "nbformat": 4,
 "nbformat_minor": 5
}

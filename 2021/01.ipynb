{
 "cells": [
  {
   "cell_type": "code",
   "execution_count": 2,
   "id": "1fa1f520",
   "metadata": {},
   "outputs": [],
   "source": [
    "import aocd\n",
    "%run helper.ipynb\n",
    "puzzle = aocd.models.Puzzle(year=2021, day=1)\n",
    "data = puzzle.input_data.split(\"\\n\")\n",
    "data = [int(x) for x in data]"
   ]
  },
  {
   "cell_type": "code",
   "execution_count": 3,
   "id": "eea68318",
   "metadata": {},
   "outputs": [
    {
     "data": {
      "text/plain": [
       "1711"
      ]
     },
     "execution_count": 3,
     "metadata": {},
     "output_type": "execute_result"
    }
   ],
   "source": [
    "increased = 0\n",
    "for i in range(len(data) - 1):\n",
    "    if(data[i] < data[i+1]):\n",
    "        increased += 1\n",
    "\n",
    "increased"
   ]
  },
  {
   "cell_type": "code",
   "execution_count": 4,
   "id": "c263084a",
   "metadata": {},
   "outputs": [],
   "source": [
    "puzzle.answer_a = increased"
   ]
  },
  {
   "cell_type": "code",
   "execution_count": 5,
   "id": "ea47916e",
   "metadata": {},
   "outputs": [
    {
     "data": {
      "text/plain": [
       "1743"
      ]
     },
     "execution_count": 5,
     "metadata": {},
     "output_type": "execute_result"
    }
   ],
   "source": [
    "increased3 = 0\n",
    "for i in range(len(data) - 3):\n",
    "    if(sum(data[i:i+3]) < sum(data[i+1:i+4])):\n",
    "        increased3 += 1\n",
    "\n",
    "increased3"
   ]
  },
  {
   "cell_type": "code",
   "execution_count": 6,
   "id": "759c5c96",
   "metadata": {},
   "outputs": [],
   "source": [
    "puzzle.answer_b = increased3"
   ]
  },
  {
   "cell_type": "code",
   "execution_count": null,
   "id": "2c9fe91b",
   "metadata": {},
   "outputs": [],
   "source": []
  }
 ],
 "metadata": {
  "kernelspec": {
   "display_name": "Python 3 (ipykernel)",
   "language": "python",
   "name": "python3"
  },
  "language_info": {
   "codemirror_mode": {
    "name": "ipython",
    "version": 3
   },
   "file_extension": ".py",
   "mimetype": "text/x-python",
   "name": "python",
   "nbconvert_exporter": "python",
   "pygments_lexer": "ipython3",
   "version": "3.9.9"
  }
 },
 "nbformat": 4,
 "nbformat_minor": 5
}

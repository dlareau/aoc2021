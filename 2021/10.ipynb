{
 "cells": [
  {
   "cell_type": "code",
   "execution_count": 1,
   "id": "871cc1e2",
   "metadata": {},
   "outputs": [],
   "source": [
    "import aocd\n",
    "%run helper.ipynb\n",
    "puzzle = aocd.models.Puzzle(year=2021, day=10)\n",
    "data = puzzle.input_data.split(\"\\n\")"
   ]
  },
  {
   "cell_type": "code",
   "execution_count": 2,
   "id": "80138efa",
   "metadata": {},
   "outputs": [],
   "source": [
    "start = \"{([<\"\n",
    "stop = \"})]>\"\n",
    "\n",
    "value = {\n",
    "    \")\": 3,\n",
    "    \"]\": 57,\n",
    "    \"}\": 1197,\n",
    "    \">\": 25137\n",
    "}\n",
    "\n",
    "comp_value = {\n",
    "    \"(\": 1,\n",
    "    \"[\": 2,\n",
    "    \"{\": 3,\n",
    "    \"<\": 4\n",
    "}\n",
    "\n",
    "comp_scores = []\n",
    "points = 0\n",
    "\n",
    "for line in data:\n",
    "    state = []\n",
    "    for char in line:\n",
    "        if(char in start):\n",
    "            state.append(char)\n",
    "        if(char in stop):\n",
    "            last = state.pop()\n",
    "            if last not in start or stop[start.index(last)] != char:\n",
    "                points += value[char]\n",
    "                break\n",
    "    else:\n",
    "        comp_score = 0\n",
    "        for char in state[::-1]:\n",
    "            comp_score *=5\n",
    "            comp_score += comp_value[char]\n",
    "        comp_scores.append(comp_score)"
   ]
  },
  {
   "cell_type": "code",
   "execution_count": 3,
   "id": "08c067c6",
   "metadata": {},
   "outputs": [],
   "source": [
    "puzzle.answer_a = points"
   ]
  },
  {
   "cell_type": "code",
   "execution_count": 4,
   "id": "2edc3ab7",
   "metadata": {},
   "outputs": [],
   "source": [
    "puzzle.answer_b = sorted(comp_scores)[len(comp_scores)//2]"
   ]
  },
  {
   "cell_type": "code",
   "execution_count": null,
   "id": "f56358fa",
   "metadata": {},
   "outputs": [],
   "source": []
  }
 ],
 "metadata": {
  "kernelspec": {
   "display_name": "Python 3 (ipykernel)",
   "language": "python",
   "name": "python3"
  },
  "language_info": {
   "codemirror_mode": {
    "name": "ipython",
    "version": 3
   },
   "file_extension": ".py",
   "mimetype": "text/x-python",
   "name": "python",
   "nbconvert_exporter": "python",
   "pygments_lexer": "ipython3",
   "version": "3.9.9"
  }
 },
 "nbformat": 4,
 "nbformat_minor": 5
}

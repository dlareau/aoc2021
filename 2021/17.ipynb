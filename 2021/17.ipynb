{
 "cells": [
  {
   "cell_type": "code",
   "execution_count": 1,
   "id": "33bd75bc",
   "metadata": {},
   "outputs": [
    {
     "name": "stdout",
     "output_type": "stream",
     "text": [
      "target area: x=128..160, y=-142..-88\n"
     ]
    }
   ],
   "source": [
    "import aocd\n",
    "import re\n",
    "import numpy as np\n",
    "%run helper.ipynb\n",
    "puzzle = aocd.models.Puzzle(year=2021, day=17)\n",
    "print(puzzle.input_data)"
   ]
  },
  {
   "cell_type": "code",
   "execution_count": 2,
   "id": "7d529df1",
   "metadata": {},
   "outputs": [],
   "source": [
    "target_x = list(range(128, 161))\n",
    "target_y = list(range(-142, -87))"
   ]
  },
  {
   "cell_type": "code",
   "execution_count": 3,
   "id": "d857a859",
   "metadata": {},
   "outputs": [],
   "source": [
    "def fire(v_x, v_y, t_x, t_y):\n",
    "    pos_x = 0\n",
    "    pos_y = 0\n",
    "    far_target_x = max(t_x)\n",
    "    far_target_y = min(t_y)\n",
    "    max_y = 0\n",
    "    while(pos_x <= far_target_x and pos_y >= far_target_y):\n",
    "        pos_x += v_x\n",
    "        pos_y += v_y\n",
    "        if(v_x > 0):\n",
    "            v_x -= 1\n",
    "        v_y -= 1\n",
    "        if(pos_y > max_y):\n",
    "            max_y = pos_y\n",
    "        if(pos_x in t_x and pos_y in t_y):\n",
    "            return max_y\n",
    "    return -1"
   ]
  },
  {
   "cell_type": "code",
   "execution_count": 5,
   "id": "9568cbe5",
   "metadata": {},
   "outputs": [],
   "source": [
    "results = []\n",
    "for i in range(max(target_x)+10):\n",
    "    for j in range(min(target_y), 400):\n",
    "        f = fire(i, j, target_x, target_y)\n",
    "        results.append(f)"
   ]
  },
  {
   "cell_type": "code",
   "execution_count": 6,
   "id": "7ae01cd2",
   "metadata": {},
   "outputs": [],
   "source": [
    "puzzle.answer_a = max(results)"
   ]
  },
  {
   "cell_type": "code",
   "execution_count": 7,
   "id": "430f9ce7",
   "metadata": {},
   "outputs": [],
   "source": [
    "puzzle.answer_b = len([x for x in results if x > -1])"
   ]
  },
  {
   "cell_type": "code",
   "execution_count": null,
   "id": "91977e81",
   "metadata": {},
   "outputs": [],
   "source": []
  }
 ],
 "metadata": {
  "kernelspec": {
   "display_name": "Python 3 (ipykernel)",
   "language": "python",
   "name": "python3"
  },
  "language_info": {
   "codemirror_mode": {
    "name": "ipython",
    "version": 3
   },
   "file_extension": ".py",
   "mimetype": "text/x-python",
   "name": "python",
   "nbconvert_exporter": "python",
   "pygments_lexer": "ipython3",
   "version": "3.9.9"
  }
 },
 "nbformat": 4,
 "nbformat_minor": 5
}
